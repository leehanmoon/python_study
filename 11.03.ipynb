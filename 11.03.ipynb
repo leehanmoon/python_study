{
 "cells": [
  {
   "cell_type": "code",
   "execution_count": 1,
   "id": "262cfb14",
   "metadata": {},
   "outputs": [],
   "source": [
    "# 9.3 딕셔너리부터 시작\n",
    "# key는 유일한 값이여야하고 value는 여러개여도 된다. key: value ex) 배 : 선박,신체,과일\n",
    "# 튜플은 내용물을 변경할 수 없는 리스트이다."
   ]
  },
  {
   "cell_type": "code",
   "execution_count": 3,
   "id": "6273f4e2",
   "metadata": {},
   "outputs": [],
   "source": [
    "#tuple 은 항상 , 콤마가 있어야한다. "
   ]
  },
  {
   "cell_type": "code",
   "execution_count": 5,
   "id": "17d6dceb",
   "metadata": {},
   "outputs": [
    {
     "name": "stdout",
     "output_type": "stream",
     "text": [
      "1\n",
      "2\n"
     ]
    }
   ],
   "source": [
    "#패킹=packing\n",
    "a=(1,2)\n",
    "print(a[0])\n",
    "print(a[1])"
   ]
  },
  {
   "cell_type": "code",
   "execution_count": 6,
   "id": "21305da1",
   "metadata": {},
   "outputs": [
    {
     "name": "stdout",
     "output_type": "stream",
     "text": [
      "3\n",
      "4\n"
     ]
    }
   ],
   "source": [
    "#언패킹=unpacking\n",
    "b=(3,4)\n",
    "c,d=b\n",
    "print(c)\n",
    "print(d)"
   ]
  },
  {
   "cell_type": "code",
   "execution_count": 7,
   "id": "cd57e5aa",
   "metadata": {},
   "outputs": [
    {
     "name": "stdout",
     "output_type": "stream",
     "text": [
      "200\n",
      "100\n"
     ]
    }
   ],
   "source": [
    "#스왑=swap\n",
    "a=100\n",
    "b=200\n",
    "a,b=b,a\n",
    "print(a)\n",
    "print(b)"
   ]
  },
  {
   "cell_type": "code",
   "execution_count": 13,
   "id": "cb4ce233",
   "metadata": {},
   "outputs": [
    {
     "name": "stdout",
     "output_type": "stream",
     "text": [
      "('apple', 'banana', 'orange')\n",
      "['apple', 'kiwi', 'orange']\n",
      "('apple', 'kiwi', 'orange')\n"
     ]
    }
   ],
   "source": [
    "#튜플을 리스트로 변경하기\n",
    "t_fruits=('apple','banana','orange')\n",
    "print(t_fruits)\n",
    "f_list=list(t_fruits)\n",
    "f_list[1]='kiwi'\n",
    "print(f_list)\n",
    "t_fruits=tuple(f_list)\n",
    "print(t_fruits)"
   ]
  },
  {
   "cell_type": "code",
   "execution_count": 14,
   "id": "70f053a1",
   "metadata": {},
   "outputs": [
    {
     "name": "stdout",
     "output_type": "stream",
     "text": [
      "{1, 2, 3, 4}\n"
     ]
    }
   ],
   "source": [
    "#집합=set\n",
    "st=set([1,2,3,2,4,1,2])      \n",
    "print(st)              # 즉, 중복 허용 xxxxxx 리스트와 튜플이 들어갈수있지만 중복 알아서 삭제, 딕셔너리는 들어갈수없다.\n",
    "#중괄호가 나오는데 여기에 : 콜론이 있으면 딕셔너리고, , 콤마가 있으면 집합 set 이다."
   ]
  },
  {
   "cell_type": "code",
   "execution_count": 26,
   "id": "66ac6886",
   "metadata": {},
   "outputs": [
    {
     "name": "stdout",
     "output_type": "stream",
     "text": [
      "True\n",
      "True\n"
     ]
    }
   ],
   "source": [
    "#union = 합집합 = or = \\\n",
    "#intersection = 교집합 = and = &\n",
    "#isdisjoint = 완전다르다 = 교집합이 없다.\n",
    "# 함수의 is가 붙으면 무조건 True or False 로 나온다\n",
    "s1={1,2,3,4,5}\n",
    "s2={1,2,3}\n",
    "s3={1,2,6}\n",
    "print(s2.issubset(s1))     #s2가 s1의 부분집합인가?\n",
    "print(s1.issuperset(s2))   #s1이 s2의 상위집합인가?\n"
   ]
  },
  {
   "cell_type": "code",
   "execution_count": 27,
   "id": "0d9ca855",
   "metadata": {},
   "outputs": [
    {
     "data": {
      "text/plain": [
       "True"
      ]
     },
     "execution_count": 27,
     "metadata": {},
     "output_type": "execute_result"
    }
   ],
   "source": [
    "s2={1,2,3}\n",
    "s3={1,2,3}\n",
    "s2.issubset(s3)"
   ]
  },
  {
   "cell_type": "code",
   "execution_count": 28,
   "id": "0cfe2f00",
   "metadata": {},
   "outputs": [
    {
     "data": {
      "text/plain": [
       "True"
      ]
     },
     "execution_count": 28,
     "metadata": {},
     "output_type": "execute_result"
    }
   ],
   "source": [
    "s2.issuperset(s3)"
   ]
  },
  {
   "cell_type": "code",
   "execution_count": 29,
   "id": "8e202b79",
   "metadata": {},
   "outputs": [
    {
     "data": {
      "text/plain": [
       "True"
      ]
     },
     "execution_count": 29,
     "metadata": {},
     "output_type": "execute_result"
    }
   ],
   "source": [
    "s2==s3"
   ]
  },
  {
   "cell_type": "code",
   "execution_count": null,
   "id": "50aea60c",
   "metadata": {},
   "outputs": [],
   "source": []
  },
  {
   "cell_type": "code",
   "execution_count": 30,
   "id": "fcfb2a55",
   "metadata": {},
   "outputs": [],
   "source": [
    "##################  10장시작 ( 함수 )  #####################\n",
    "# 함수는 재사용이 가능\n",
    "# def 는 definition 약자로 정의한다라는 뜻\n",
    "# () 괄호 필수!"
   ]
  },
  {
   "cell_type": "code",
   "execution_count": 32,
   "id": "0fe81361",
   "metadata": {},
   "outputs": [
    {
     "name": "stdout",
     "output_type": "stream",
     "text": [
      "111\n",
      "222\n"
     ]
    }
   ],
   "source": [
    "def func_2():\n",
    "    print('222')\n",
    "def func_1():\n",
    "    print('111')\n",
    "    func_2()\n",
    "\n",
    "func_1()            #이것은 함수 안에서 함수를 호출할 수 있다. 그러나 여기서 호출을 미리 해야 가능 !!!!!!"
   ]
  },
  {
   "cell_type": "code",
   "execution_count": 35,
   "id": "267ba7c5",
   "metadata": {},
   "outputs": [
    {
     "name": "stdout",
     "output_type": "stream",
     "text": [
      "\n",
      "튀김옷 입히기\n",
      "4 분 튀기기\n",
      "소스 바르기= 갈비소스\n",
      "\n",
      "튀김옷 입히기\n",
      "5 분 튀기기\n",
      "소스 바르기= 불닭소스\n",
      "\n",
      "튀김옷 입히기\n",
      "6 분 튀기기\n",
      "소스 바르기= 없음\n",
      "\n",
      "튀김옷 입히기\n",
      "7 분 튀기기\n",
      "소스 바르기= 없음\n"
     ]
    }
   ],
   "source": [
    "# 매개 변수가 여러개일경우 , 콤마로 연결한다. ( , )\n",
    "def fry(min,source='없음'):\n",
    "    print('\\n튀김옷 입히기')\n",
    "    print(min,'분 튀기기')\n",
    "    print('소스 바르기=',source)\n",
    "\n",
    "fry(4,'갈비소스')\n",
    "fry(5, '불닭소스')\n",
    "fry(6, '없음')\n",
    "fry(7)"
   ]
  },
  {
   "cell_type": "code",
   "execution_count": 40,
   "id": "8f8cd625",
   "metadata": {},
   "outputs": [
    {
     "data": {
      "text/plain": [
       "25"
      ]
     },
     "execution_count": 40,
     "metadata": {},
     "output_type": "execute_result"
    }
   ],
   "source": [
    "def cal(num1,num2):     #함수의 head\n",
    "    add=num1+num2\n",
    "    return add         #함수에서 만든 데이터를 전달할 때는 키워드 return\n",
    "\n",
    "result=cal(20,5)\n",
    "result"
   ]
  },
  {
   "cell_type": "code",
   "execution_count": 42,
   "id": "b46a804c",
   "metadata": {},
   "outputs": [
    {
     "name": "stdout",
     "output_type": "stream",
     "text": [
      "25 100\n"
     ]
    }
   ],
   "source": [
    "def cal(num1,num2):     #함수의 head\n",
    "    add=num1+num2\n",
    "    mul=num1*num2\n",
    "    return add,mul  \n",
    "\n",
    "re1,re2=cal(20,5)\n",
    "print(re1,re2)"
   ]
  },
  {
   "cell_type": "code",
   "execution_count": 43,
   "id": "12991fce",
   "metadata": {},
   "outputs": [],
   "source": [
    "#(소괄호) 튜플, {중괄호}의 콜론은 딕셔너리 콤마는 집합, [대괄호]는 리스트"
   ]
  },
  {
   "cell_type": "code",
   "execution_count": null,
   "id": "8c65d361",
   "metadata": {},
   "outputs": [],
   "source": [
    "#사다리타기\n",
    "import random as r\n",
    "import time as t\n",
    "\n",
    "def sadari(st):\n",
    "    s=r.randrange(st)\n",
    "    return s\n",
    "\n",
    "sdr=[0]\n",
    "sdr=input('사다리 타기 항목 입력:').split()\n",
    "for k in range(len(sdr)):\n",
    "    hit = sadari(len(sdr))\n",
    "    t.sleep(2)\n",
    "    print(k,'번은',sdr[hit])\n",
    "    del(sdr[hit])            #이미 나온 값은 다시 사용이 안됨으로 del 사용"
   ]
  },
  {
   "cell_type": "code",
   "execution_count": 1,
   "id": "929600a2",
   "metadata": {},
   "outputs": [
    {
     "name": "stdout",
     "output_type": "stream",
     "text": [
      "10\n",
      "100\n"
     ]
    }
   ],
   "source": [
    "def doomari():\n",
    "    hosik=10\n",
    "    print(hosik)    #함수가 종료되면 값 없어짐.\n",
    "    \n",
    "hosik=100\n",
    "doomari()\n",
    "print(hosik)        #값이 중첩될때는 외부에 있는것이 우선시."
   ]
  },
  {
   "cell_type": "code",
   "execution_count": 7,
   "id": "3fe21dab",
   "metadata": {},
   "outputs": [
    {
     "ename": "UnboundLocalError",
     "evalue": "local variable 'hosik' referenced before assignment",
     "output_type": "error",
     "traceback": [
      "\u001b[1;31m---------------------------------------------------------------------------\u001b[0m",
      "\u001b[1;31mUnboundLocalError\u001b[0m                         Traceback (most recent call last)",
      "Input \u001b[1;32mIn [7]\u001b[0m, in \u001b[0;36m<cell line: 5>\u001b[1;34m()\u001b[0m\n\u001b[0;32m      3\u001b[0m     hosik\u001b[38;5;241m=\u001b[39mhosik\u001b[38;5;241m-\u001b[39m\u001b[38;5;241m99\u001b[39m\n\u001b[0;32m      4\u001b[0m hosik\u001b[38;5;241m=\u001b[39m\u001b[38;5;241m100\u001b[39m\n\u001b[1;32m----> 5\u001b[0m \u001b[43mdoomari\u001b[49m\u001b[43m(\u001b[49m\u001b[43m)\u001b[49m\n",
      "Input \u001b[1;32mIn [7]\u001b[0m, in \u001b[0;36mdoomari\u001b[1;34m()\u001b[0m\n\u001b[0;32m      1\u001b[0m \u001b[38;5;28;01mdef\u001b[39;00m \u001b[38;5;21mdoomari\u001b[39m():\n\u001b[1;32m----> 2\u001b[0m     \u001b[38;5;28mprint\u001b[39m(\u001b[43mhosik\u001b[49m)  \n\u001b[0;32m      3\u001b[0m     hosik\u001b[38;5;241m=\u001b[39mhosik\u001b[38;5;241m-\u001b[39m\u001b[38;5;241m99\u001b[39m\n",
      "\u001b[1;31mUnboundLocalError\u001b[0m: local variable 'hosik' referenced before assignment"
     ]
    }
   ],
   "source": [
    "def doomari():\n",
    "    print(hosik)  \n",
    "    hosik=hosik-99\n",
    "hosik=100\n",
    "doomari()"
   ]
  },
  {
   "cell_type": "code",
   "execution_count": 8,
   "id": "e92043de",
   "metadata": {},
   "outputs": [
    {
     "name": "stdout",
     "output_type": "stream",
     "text": [
      "10\n"
     ]
    }
   ],
   "source": [
    "def doomari():\n",
    "    global hosik                #global은 전역변수로 언제어디서 사용이 가능하고 변경이 가능하다\n",
    "    hosik=10\n",
    "    \n",
    "hosik=100\n",
    "doomari()\n",
    "print(hosik)             "
   ]
  },
  {
   "cell_type": "code",
   "execution_count": null,
   "id": "f284fffa",
   "metadata": {},
   "outputs": [],
   "source": []
  }
 ],
 "metadata": {
  "kernelspec": {
   "display_name": "Python 3 (ipykernel)",
   "language": "python",
   "name": "python3"
  },
  "language_info": {
   "codemirror_mode": {
    "name": "ipython",
    "version": 3
   },
   "file_extension": ".py",
   "mimetype": "text/x-python",
   "name": "python",
   "nbconvert_exporter": "python",
   "pygments_lexer": "ipython3",
   "version": "3.9.12"
  }
 },
 "nbformat": 4,
 "nbformat_minor": 5
}
