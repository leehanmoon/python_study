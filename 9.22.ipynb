{
 "cells": [
  {
   "cell_type": "code",
   "execution_count": 1,
   "id": "6458e28e",
   "metadata": {},
   "outputs": [],
   "source": [
    "import random"
   ]
  },
  {
   "cell_type": "code",
   "execution_count": 2,
   "id": "91885390",
   "metadata": {},
   "outputs": [
    {
     "ename": "SyntaxError",
     "evalue": "invalid syntax (3660156465.py, line 2)",
     "output_type": "error",
     "traceback": [
      "\u001b[1;36m  Input \u001b[1;32mIn [2]\u001b[1;36m\u001b[0m\n\u001b[1;33m    user=int(input('가위0, 바위1, 보2': ))\u001b[0m\n\u001b[1;37m                                 ^\u001b[0m\n\u001b[1;31mSyntaxError\u001b[0m\u001b[1;31m:\u001b[0m invalid syntax\n"
     ]
    }
   ],
   "source": [
    "com=random.randrange(0,3)\n",
    "user=int(input('가위0, 바위1, 보2': ))\n",
    "print('user=%d, com=%d'%(user,com))\n",
    "\n",
    "if "
   ]
  },
  {
   "cell_type": "code",
   "execution_count": 3,
   "id": "4e731cb7",
   "metadata": {},
   "outputs": [
    {
     "name": "stdout",
     "output_type": "stream",
     "text": [
      "근무시간:44\n",
      "급여: 740520.0000000001\n"
     ]
    }
   ],
   "source": [
    "price=12800\n",
    "hour=int(input('근무시간:'))\n",
    "meal=hour//4\n",
    "\n",
    "if hour>=40:\n",
    "    sum=(price*hour)+(meal*10000)\n",
    "    sum=sum*1.1\n",
    "else:\n",
    "    sum=(price*hour)+(meal*9000)\n",
    "    sum=sum*1.02\n",
    "print('급여:',sum)"
   ]
  },
  {
   "cell_type": "code",
   "execution_count": 4,
   "id": "2a953252",
   "metadata": {},
   "outputs": [
    {
     "data": {
      "text/plain": [
       "0.0"
      ]
     },
     "execution_count": 4,
     "metadata": {},
     "output_type": "execute_result"
    }
   ],
   "source": [
    "0/3"
   ]
  },
  {
   "cell_type": "code",
   "execution_count": null,
   "id": "a5c2211a",
   "metadata": {},
   "outputs": [],
   "source": []
  }
 ],
 "metadata": {
  "kernelspec": {
   "display_name": "Python 3 (ipykernel)",
   "language": "python",
   "name": "python3"
  },
  "language_info": {
   "codemirror_mode": {
    "name": "ipython",
    "version": 3
   },
   "file_extension": ".py",
   "mimetype": "text/x-python",
   "name": "python",
   "nbconvert_exporter": "python",
   "pygments_lexer": "ipython3",
   "version": "3.9.12"
  }
 },
 "nbformat": 4,
 "nbformat_minor": 5
}
