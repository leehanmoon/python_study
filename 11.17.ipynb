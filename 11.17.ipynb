{
 "cells": [
  {
   "cell_type": "code",
   "execution_count": 1,
   "id": "4d73bb6d",
   "metadata": {},
   "outputs": [],
   "source": [
    "#12장 시작"
   ]
  },
  {
   "cell_type": "code",
   "execution_count": 2,
   "id": "861bd050",
   "metadata": {},
   "outputs": [
    {
     "name": "stdout",
     "output_type": "stream",
     "text": [
      "4 분 튀김, 소스: 갈비 소스 n= 1 \n",
      "\n"
     ]
    }
   ],
   "source": [
    "class Fried:\n",
    "    num=0\n",
    "    \n",
    "    def fry(self,min,src='없음'):\n",
    "        self.num+=1\n",
    "        print(min,'분 튀김, 소스:',src,'n=',self.num,'\\n')\n",
    "        \n",
    "chicken=Fried()\n",
    "\n",
    "chicken.fry(4,'갈비 소스')"
   ]
  },
  {
   "cell_type": "code",
   "execution_count": 3,
   "id": "b19bc999",
   "metadata": {},
   "outputs": [
    {
     "name": "stdout",
     "output_type": "stream",
     "text": [
      "4 분 튀김, 소스: 갈비 소스 n= 1 \n",
      "\n"
     ]
    }
   ],
   "source": [
    "class Fried:\n",
    "    num=0\n",
    "    \n",
    "    def fry(self,min,src='없음'):\n",
    "        self.num+=1\n",
    "        print(min,'분 튀김, 소스:',src,'n=',self.num,'\\n')\n",
    "        \n",
    "chicken=Fried()        #객체 생성 문장\n",
    "\n",
    "chicken.fry(4,'갈비 소스') #객체 메쏘드 사용 문장"
   ]
  },
  {
   "cell_type": "code",
   "execution_count": 8,
   "id": "9d77a9b4",
   "metadata": {},
   "outputs": [
    {
     "ename": "NameError",
     "evalue": "name 'num' is not defined",
     "output_type": "error",
     "traceback": [
      "\u001b[1;31m---------------------------------------------------------------------------\u001b[0m",
      "\u001b[1;31mNameError\u001b[0m                                 Traceback (most recent call last)",
      "Input \u001b[1;32mIn [8]\u001b[0m, in \u001b[0;36m<cell line: 1>\u001b[1;34m()\u001b[0m\n\u001b[1;32m----> 1\u001b[0m \u001b[38;5;28mprint\u001b[39m(\u001b[43mnum\u001b[49m)\n",
      "\u001b[1;31mNameError\u001b[0m: name 'num' is not defined"
     ]
    }
   ],
   "source": [
    "print(num)"
   ]
  },
  {
   "cell_type": "code",
   "execution_count": 10,
   "id": "93c041a1",
   "metadata": {},
   "outputs": [
    {
     "ename": "NameError",
     "evalue": "name 'self' is not defined",
     "output_type": "error",
     "traceback": [
      "\u001b[1;31m---------------------------------------------------------------------------\u001b[0m",
      "\u001b[1;31mNameError\u001b[0m                                 Traceback (most recent call last)",
      "Input \u001b[1;32mIn [10]\u001b[0m, in \u001b[0;36m<cell line: 1>\u001b[1;34m()\u001b[0m\n\u001b[1;32m----> 1\u001b[0m \u001b[38;5;28mprint\u001b[39m(\u001b[38;5;28;43mself\u001b[39;49m\u001b[38;5;241m.\u001b[39mnum)\n",
      "\u001b[1;31mNameError\u001b[0m: name 'self' is not defined"
     ]
    }
   ],
   "source": [
    "print(self.num)"
   ]
  },
  {
   "cell_type": "code",
   "execution_count": 9,
   "id": "b4bf018e",
   "metadata": {},
   "outputs": [
    {
     "name": "stdout",
     "output_type": "stream",
     "text": [
      "1\n"
     ]
    }
   ],
   "source": [
    "print(chicken.num)"
   ]
  },
  {
   "cell_type": "code",
   "execution_count": 11,
   "id": "0b02be51",
   "metadata": {},
   "outputs": [],
   "source": [
    "#  __init__ 은 어떤 객체가 만들어질때 자동적으로 호출되어 그 객체가 그 역할을 하게한다."
   ]
  },
  {
   "cell_type": "code",
   "execution_count": 27,
   "id": "3685dd1c",
   "metadata": {},
   "outputs": [],
   "source": [
    "class Dog:\n",
    "    def __init__(self,name,age):\n",
    "        self.name=name\n",
    "        self.age=age\n",
    "    \n",
    "   \n",
    "mydog= Dog('merry',5)"
   ]
  },
  {
   "cell_type": "code",
   "execution_count": 28,
   "id": "534eba82",
   "metadata": {},
   "outputs": [
    {
     "name": "stdout",
     "output_type": "stream",
     "text": [
      "merry 5\n"
     ]
    }
   ],
   "source": [
    "print(mydog.name,mydog.age)"
   ]
  },
  {
   "cell_type": "code",
   "execution_count": 29,
   "id": "064a8a28",
   "metadata": {},
   "outputs": [],
   "source": [
    "class Dog:\n",
    "    def __init__(self,name,age='3'):\n",
    "        self.name=name\n",
    "        self.age=age\n",
    "    \n",
    "   \n",
    "mydog= Dog('merry')\n"
   ]
  },
  {
   "cell_type": "code",
   "execution_count": 30,
   "id": "50536234",
   "metadata": {},
   "outputs": [
    {
     "name": "stdout",
     "output_type": "stream",
     "text": [
      "merry 3\n"
     ]
    }
   ],
   "source": [
    "print(mydog.name,mydog.age)"
   ]
  },
  {
   "cell_type": "code",
   "execution_count": 31,
   "id": "d20e2585",
   "metadata": {},
   "outputs": [],
   "source": [
    "# class a를 class b(a) 라고 하면 b는 a를 상속받아 모든 기능을 하게된다 "
   ]
  },
  {
   "cell_type": "code",
   "execution_count": 33,
   "id": "5164b9a8",
   "metadata": {},
   "outputs": [
    {
     "data": {
      "text/plain": [
       "__main__.Fried"
      ]
     },
     "execution_count": 33,
     "metadata": {},
     "output_type": "execute_result"
    }
   ],
   "source": [
    "type(chicken)"
   ]
  },
  {
   "cell_type": "code",
   "execution_count": 34,
   "id": "21c8b50b",
   "metadata": {},
   "outputs": [
    {
     "data": {
      "text/plain": [
       "['__class__',\n",
       " '__delattr__',\n",
       " '__dict__',\n",
       " '__dir__',\n",
       " '__doc__',\n",
       " '__eq__',\n",
       " '__format__',\n",
       " '__ge__',\n",
       " '__getattribute__',\n",
       " '__gt__',\n",
       " '__hash__',\n",
       " '__init__',\n",
       " '__init_subclass__',\n",
       " '__le__',\n",
       " '__lt__',\n",
       " '__module__',\n",
       " '__ne__',\n",
       " '__new__',\n",
       " '__reduce__',\n",
       " '__reduce_ex__',\n",
       " '__repr__',\n",
       " '__setattr__',\n",
       " '__sizeof__',\n",
       " '__str__',\n",
       " '__subclasshook__',\n",
       " '__weakref__',\n",
       " 'fry',\n",
       " 'num']"
      ]
     },
     "execution_count": 34,
     "metadata": {},
     "output_type": "execute_result"
    }
   ],
   "source": [
    "dir(Fried)"
   ]
  },
  {
   "cell_type": "code",
   "execution_count": 35,
   "id": "2e44c636",
   "metadata": {},
   "outputs": [],
   "source": [
    "a=[]"
   ]
  },
  {
   "cell_type": "code",
   "execution_count": 36,
   "id": "11408b03",
   "metadata": {},
   "outputs": [
    {
     "data": {
      "text/plain": [
       "list"
      ]
     },
     "execution_count": 36,
     "metadata": {},
     "output_type": "execute_result"
    }
   ],
   "source": [
    "type(a)"
   ]
  },
  {
   "cell_type": "code",
   "execution_count": 37,
   "id": "e571d25a",
   "metadata": {},
   "outputs": [
    {
     "data": {
      "text/plain": [
       "['__add__',\n",
       " '__class__',\n",
       " '__class_getitem__',\n",
       " '__contains__',\n",
       " '__delattr__',\n",
       " '__delitem__',\n",
       " '__dir__',\n",
       " '__doc__',\n",
       " '__eq__',\n",
       " '__format__',\n",
       " '__ge__',\n",
       " '__getattribute__',\n",
       " '__getitem__',\n",
       " '__gt__',\n",
       " '__hash__',\n",
       " '__iadd__',\n",
       " '__imul__',\n",
       " '__init__',\n",
       " '__init_subclass__',\n",
       " '__iter__',\n",
       " '__le__',\n",
       " '__len__',\n",
       " '__lt__',\n",
       " '__mul__',\n",
       " '__ne__',\n",
       " '__new__',\n",
       " '__reduce__',\n",
       " '__reduce_ex__',\n",
       " '__repr__',\n",
       " '__reversed__',\n",
       " '__rmul__',\n",
       " '__setattr__',\n",
       " '__setitem__',\n",
       " '__sizeof__',\n",
       " '__str__',\n",
       " '__subclasshook__',\n",
       " 'append',\n",
       " 'clear',\n",
       " 'copy',\n",
       " 'count',\n",
       " 'extend',\n",
       " 'index',\n",
       " 'insert',\n",
       " 'pop',\n",
       " 'remove',\n",
       " 'reverse',\n",
       " 'sort']"
      ]
     },
     "execution_count": 37,
     "metadata": {},
     "output_type": "execute_result"
    }
   ],
   "source": [
    "dir(a)"
   ]
  },
  {
   "cell_type": "code",
   "execution_count": 38,
   "id": "bfec30e7",
   "metadata": {},
   "outputs": [],
   "source": [
    "a=['one','two','three']"
   ]
  },
  {
   "cell_type": "code",
   "execution_count": 42,
   "id": "aad003ed",
   "metadata": {},
   "outputs": [],
   "source": [
    "b=a.pop()"
   ]
  },
  {
   "cell_type": "code",
   "execution_count": 43,
   "id": "9a960e21",
   "metadata": {},
   "outputs": [
    {
     "data": {
      "text/plain": [
       "'two'"
      ]
     },
     "execution_count": 43,
     "metadata": {},
     "output_type": "execute_result"
    }
   ],
   "source": [
    "b"
   ]
  },
  {
   "cell_type": "code",
   "execution_count": 44,
   "id": "3b38000b",
   "metadata": {},
   "outputs": [
    {
     "data": {
      "text/plain": [
       "['one', 'three']"
      ]
     },
     "execution_count": 44,
     "metadata": {},
     "output_type": "execute_result"
    }
   ],
   "source": [
    "a"
   ]
  },
  {
   "cell_type": "code",
   "execution_count": 45,
   "id": "47dfe426",
   "metadata": {},
   "outputs": [],
   "source": [
    "class b:\n",
    "    pass"
   ]
  },
  {
   "cell_type": "code",
   "execution_count": 46,
   "id": "f77538a7",
   "metadata": {},
   "outputs": [],
   "source": [
    "#pass 는 내용이 없음을 나타내는 키워드이다."
   ]
  },
  {
   "cell_type": "code",
   "execution_count": 47,
   "id": "6661853a",
   "metadata": {},
   "outputs": [],
   "source": [
    "c=b()"
   ]
  },
  {
   "cell_type": "code",
   "execution_count": 49,
   "id": "3b85db42",
   "metadata": {},
   "outputs": [
    {
     "data": {
      "text/plain": [
       "__main__.b"
      ]
     },
     "execution_count": 49,
     "metadata": {},
     "output_type": "execute_result"
    }
   ],
   "source": [
    "type(c)"
   ]
  },
  {
   "cell_type": "code",
   "execution_count": 50,
   "id": "1b41f0a1",
   "metadata": {},
   "outputs": [],
   "source": [
    "#캡슐화 encapsulation\n",
    "#저장할땐 set_xxx\n",
    "#빼내올떈 get_xxx\n",
    "#외부접근을 막으려면 __name   __age처럼 언더바 두개를 쓴다"
   ]
  },
  {
   "cell_type": "code",
   "execution_count": null,
   "id": "4e72867f",
   "metadata": {},
   "outputs": [],
   "source": [
    "_"
   ]
  }
 ],
 "metadata": {
  "kernelspec": {
   "display_name": "Python 3 (ipykernel)",
   "language": "python",
   "name": "python3"
  },
  "language_info": {
   "codemirror_mode": {
    "name": "ipython",
    "version": 3
   },
   "file_extension": ".py",
   "mimetype": "text/x-python",
   "name": "python",
   "nbconvert_exporter": "python",
   "pygments_lexer": "ipython3",
   "version": "3.9.12"
  }
 },
 "nbformat": 4,
 "nbformat_minor": 5
}
