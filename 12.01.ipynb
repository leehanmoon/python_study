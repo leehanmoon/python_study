{
 "cells": [
  {
   "cell_type": "code",
   "execution_count": 1,
   "id": "64d116e4",
   "metadata": {},
   "outputs": [
    {
     "name": "stdout",
     "output_type": "stream",
     "text": [
      "300\n"
     ]
    }
   ],
   "source": [
    "add = lambda x, y: x+y\n",
    "print(add(100,200))"
   ]
  },
  {
   "cell_type": "code",
   "execution_count": null,
   "id": "bec2a931",
   "metadata": {},
   "outputs": [],
   "source": [
    "filter(함수,기준 리스트)"
   ]
  },
  {
   "cell_type": "code",
   "execution_count": 4,
   "id": "2d57bae0",
   "metadata": {},
   "outputs": [
    {
     "name": "stdout",
     "output_type": "stream",
     "text": [
      "2 3 4 "
     ]
    }
   ],
   "source": [
    "ages=[1,2,3,4]\n",
    "\n",
    "for a in filter(lambda x:x>=2,ages):\n",
    "    print(a,'',end='')"
   ]
  },
  {
   "cell_type": "code",
   "execution_count": 20,
   "id": "6bb99528",
   "metadata": {},
   "outputs": [
    {
     "name": "stdout",
     "output_type": "stream",
     "text": [
      "[1, 4, 9, 16, 25, 36]\n"
     ]
    }
   ],
   "source": [
    "a=[1,2,3,4,5,6]\n",
    "squre_a=list(map(lambda x:x**2,a))\n",
    "print(squre_a)"
   ]
  },
  {
   "cell_type": "code",
   "execution_count": 21,
   "id": "82fceef3",
   "metadata": {},
   "outputs": [],
   "source": [
    "a=[1,2,3,4,5,6,7]\n",
    "a=[x**2 for x in a]"
   ]
  },
  {
   "cell_type": "code",
   "execution_count": 16,
   "id": "00484751",
   "metadata": {},
   "outputs": [
    {
     "name": "stdout",
     "output_type": "stream",
     "text": [
      "1501500\n"
     ]
    }
   ],
   "source": [
    "from functools import reduce\n",
    "\n",
    "a= range(1000,2001)\n",
    "n= reduce(lambda x,y:x+y,a)\n",
    "print(n)\n"
   ]
  },
  {
   "cell_type": "code",
   "execution_count": 45,
   "id": "5781b256",
   "metadata": {},
   "outputs": [
    {
     "data": {
      "text/plain": [
       "['H', 'E', 'L', 'L', 'O']"
      ]
     },
     "execution_count": 45,
     "metadata": {},
     "output_type": "execute_result"
    }
   ],
   "source": [
    "st='Hello'\n",
    "s_list=list(st.upper())\n",
    "s_list"
   ]
  },
  {
   "cell_type": "code",
   "execution_count": 29,
   "id": "85688b23",
   "metadata": {},
   "outputs": [
    {
     "name": "stdout",
     "output_type": "stream",
     "text": [
      "[-1, -2, -3]\n"
     ]
    }
   ],
   "source": [
    "n_list=[1,2,3,4,-1,-2,-3]\n",
    "minus_list=[x for x in n_list if x<0]\n",
    "print(minus_list)"
   ]
  },
  {
   "cell_type": "code",
   "execution_count": 33,
   "id": "6edb1c99",
   "metadata": {},
   "outputs": [
    {
     "name": "stdout",
     "output_type": "stream",
     "text": [
      "[4, 5, 6, 8, 10, 12, 12, 15, 18]\n"
     ]
    }
   ],
   "source": [
    "product_xy=[x*y for x in [1,2,3] for y in [4,5,6]]\n",
    "print(product_xy)"
   ]
  },
  {
   "cell_type": "code",
   "execution_count": 46,
   "id": "1530b36b",
   "metadata": {},
   "outputs": [
    {
     "ename": "SyntaxError",
     "evalue": "invalid syntax (2875251266.py, line 1)",
     "output_type": "error",
     "traceback": [
      "\u001b[1;36m  Input \u001b[1;32mIn [46]\u001b[1;36m\u001b[0m\n\u001b[1;33m    product_xy=[ if x%2==0  if y%3==0]\u001b[0m\n\u001b[1;37m                 ^\u001b[0m\n\u001b[1;31mSyntaxError\u001b[0m\u001b[1;31m:\u001b[0m invalid syntax\n"
     ]
    }
   ],
   "source": [
    "product_xy=[x,y if x%2==0  if y%3==0]\n",
    "print(product_xy)"
   ]
  },
  {
   "cell_type": "code",
   "execution_count": null,
   "id": "b5ba6e4b",
   "metadata": {},
   "outputs": [],
   "source": []
  }
 ],
 "metadata": {
  "kernelspec": {
   "display_name": "Python 3 (ipykernel)",
   "language": "python",
   "name": "python3"
  },
  "language_info": {
   "codemirror_mode": {
    "name": "ipython",
    "version": 3
   },
   "file_extension": ".py",
   "mimetype": "text/x-python",
   "name": "python",
   "nbconvert_exporter": "python",
   "pygments_lexer": "ipython3",
   "version": "3.9.12"
  }
 },
 "nbformat": 4,
 "nbformat_minor": 5
}
