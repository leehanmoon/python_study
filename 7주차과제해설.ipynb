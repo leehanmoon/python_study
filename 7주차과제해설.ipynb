{
 "cells": [
  {
   "cell_type": "code",
   "execution_count": 7,
   "id": "85dff1d5",
   "metadata": {},
   "outputs": [
    {
     "name": "stdout",
     "output_type": "stream",
     "text": [
      "이름 = 길동\n",
      "성 = 홍\n",
      "전화번호 = 010-1234-5678\n",
      "Email = test@skuniv.ac.kr\n"
     ]
    }
   ],
   "source": [
    "import tkinter as tk\n",
    "\n",
    "class App(tk.Tk):\n",
    "    def __init__(self):\n",
    "        super().__init__()\n",
    "        fields = [\"이름\", \"성\", \"전화번호\", \"Email\"]\n",
    "        labels = [tk.Label(self, text=f) for f in fields]\n",
    "        entries = [tk.Entry(self) for _ in fields]\n",
    "        self.widgets = list(zip(labels, entries))\n",
    "        self.submit = tk.Button(self, text=\"Print info\", command=self.print_info)\n",
    "        \n",
    "        for i, (label, entry) in enumerate(self.widgets):\n",
    "            label.grid(row=i, column=0, padx=10, sticky=tk.W)\n",
    "            entry.grid(row=i, column=1, padx=10, pady=5)\n",
    "        self.submit.grid(row=len(fields), column=1, sticky=tk.E, padx=10, pady=10)\n",
    "            \n",
    "    def print_info(self):\n",
    "        for label, entry in self.widgets:\n",
    "            print(\"{} = {}\".format(label.cget(\"text\"), entry.get()))\n",
    "            \n",
    "if __name__ == \"__main__\":\n",
    "    app = App()\n",
    "    app.mainloop()\n",
    "\n"
   ]
  },
  {
   "cell_type": "raw",
   "id": "da2c211c",
   "metadata": {},
   "source": []
  },
  {
   "cell_type": "code",
   "execution_count": 8,
   "id": "dbbabd3e",
   "metadata": {},
   "outputs": [
    {
     "name": "stdout",
     "output_type": "stream",
     "text": [
      "서경대학교 이공대학\n"
     ]
    }
   ],
   "source": [
    "import tkinter as tk\n",
    "class App(tk.Tk):\n",
    "    def __init__(self):\n",
    "        super().__init__()\n",
    "        self.title(\"메모장 연습\")\n",
    "        self.resizable(0, 0)\n",
    "        self.text = tk.Text(self, width=50, height=10)\n",
    "        self.btn_clear = tk.Button(self, text=\"글 삭제\", command=self.clear_text)\n",
    "        self.btn_insert = tk.Button(self, text=\"삽입\", command=self.insert_text)\n",
    "        self.btn_print = tk.Button(self, text=\"선택영역 출력\", command=self.print_selection)\n",
    "        self.text.pack()\n",
    "        self.btn_clear.pack(side=tk.LEFT, expand=True, pady=10)\n",
    "        self.btn_insert.pack(side=tk.LEFT, expand=True, pady=10)\n",
    "        self.btn_print.pack(side=tk.LEFT, expand=True, pady=10)\n",
    "        \n",
    "    def clear_text(self):\n",
    "        self.text.delete(\"1.0\", tk.END)\n",
    "        \n",
    "    def insert_text(self):\n",
    "        self.text.insert(tk.INSERT, \" \")\n",
    "        \n",
    "    def print_selection(self):\n",
    "        selection = self.text.tag_ranges(tk.SEL)\n",
    "        if selection:\n",
    "            content = self.text.get(*selection)\n",
    "            print(content)\n",
    "\n",
    "if __name__ == \"__main__\":\n",
    "    app = App()\n",
    "    app.mainloop()\n",
    "        \n",
    "    "
   ]
  },
  {
   "cell_type": "code",
   "execution_count": 10,
   "id": "de39bbab",
   "metadata": {},
   "outputs": [],
   "source": [
    "import tkinter as tk\n",
    "\n",
    "class App(tk.Tk):\n",
    "    \n",
    "    def __init__(self):\n",
    "        super().__init__()\n",
    "        self.title(\"메뉴 연습\")\n",
    "        menu = tk.Menu(self)\n",
    "        file_menu = tk.Menu(menu, tearoff=0)\n",
    "        file_menu.add_command(label=\"New file\")\n",
    "        file_menu.add_command(label=\"Open\")\n",
    "        file_menu.add_separator()\n",
    "        file_menu.add_command(label=\"Save\")\n",
    "        file_menu.add_command(label=\"Save as...\")\n",
    "        menu.add_cascade(label=\"File\", menu=file_menu)\n",
    "        menu.add_command(label=\"About\")\n",
    "        menu.add_command(label=\"Quit\", command=self.destroy)\n",
    "        self.config(menu=menu)\n",
    "        \n",
    "if __name__ == \"__main__\":\n",
    "    app = App()\n",
    "    app.mainloop()\n"
   ]
  },
  {
   "cell_type": "code",
   "execution_count": 1,
   "id": "5964a7ae",
   "metadata": {},
   "outputs": [
    {
     "data": {
      "text/plain": [
       "['__add__',\n",
       " '__class__',\n",
       " '__class_getitem__',\n",
       " '__contains__',\n",
       " '__delattr__',\n",
       " '__delitem__',\n",
       " '__dir__',\n",
       " '__doc__',\n",
       " '__eq__',\n",
       " '__format__',\n",
       " '__ge__',\n",
       " '__getattribute__',\n",
       " '__getitem__',\n",
       " '__gt__',\n",
       " '__hash__',\n",
       " '__iadd__',\n",
       " '__imul__',\n",
       " '__init__',\n",
       " '__init_subclass__',\n",
       " '__iter__',\n",
       " '__le__',\n",
       " '__len__',\n",
       " '__lt__',\n",
       " '__mul__',\n",
       " '__ne__',\n",
       " '__new__',\n",
       " '__reduce__',\n",
       " '__reduce_ex__',\n",
       " '__repr__',\n",
       " '__reversed__',\n",
       " '__rmul__',\n",
       " '__setattr__',\n",
       " '__setitem__',\n",
       " '__sizeof__',\n",
       " '__str__',\n",
       " '__subclasshook__',\n",
       " 'append',\n",
       " 'clear',\n",
       " 'copy',\n",
       " 'count',\n",
       " 'extend',\n",
       " 'index',\n",
       " 'insert',\n",
       " 'pop',\n",
       " 'remove',\n",
       " 'reverse',\n",
       " 'sort']"
      ]
     },
     "execution_count": 1,
     "metadata": {},
     "output_type": "execute_result"
    }
   ],
   "source": [
    "dir(list)"
   ]
  },
  {
   "cell_type": "code",
   "execution_count": 2,
   "id": "1deba799",
   "metadata": {},
   "outputs": [],
   "source": [
    "animal=['rabbit', 'dog']"
   ]
  },
  {
   "cell_type": "code",
   "execution_count": 5,
   "id": "41b7cb34",
   "metadata": {},
   "outputs": [
    {
     "data": {
      "text/plain": [
       "list"
      ]
     },
     "execution_count": 5,
     "metadata": {},
     "output_type": "execute_result"
    }
   ],
   "source": [
    "type(animal)"
   ]
  },
  {
   "cell_type": "code",
   "execution_count": null,
   "id": "5f20793a",
   "metadata": {},
   "outputs": [],
   "source": []
  }
 ],
 "metadata": {
  "kernelspec": {
   "display_name": "Python 3 (ipykernel)",
   "language": "python",
   "name": "python3"
  },
  "language_info": {
   "codemirror_mode": {
    "name": "ipython",
    "version": 3
   },
   "file_extension": ".py",
   "mimetype": "text/x-python",
   "name": "python",
   "nbconvert_exporter": "python",
   "pygments_lexer": "ipython3",
   "version": "3.9.7"
  }
 },
 "nbformat": 4,
 "nbformat_minor": 5
}
