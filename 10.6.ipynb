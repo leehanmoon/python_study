{
 "cells": [
  {
   "cell_type": "code",
   "execution_count": null,
   "id": "b0600bff",
   "metadata": {},
   "outputs": [],
   "source": [
    "#6.4 부터 수업시작\n",
    "#for문은 횟수 (for a in (범위))\n",
    "#while문은 조건문 = while (조건식)-> 참 거짓을 판별함으로 T or F로 나온다,\n",
    "#스무고개 게임\n",
    "import random\n",
    "\n",
    "com= random.randrange(1,21)\n",
    "user=-1                      # -1의 의미는 없다. 왜 근데 -1 을 둔것이냐면 만약 같은 수를 고를경우 \n",
    "                             #true이기 때문에  while 로 다시 올라가기 때문에 false가 필요하다 그래서 사용한것\n",
    "while com!=user:            #!=는 다르다는 의미\n",
    "    user=int(input(\"1~20 사이의 수 입력:\"))\n",
    "    if com==user:\n",
    "        print('맞췄습니다')\n",
    "    elif com>user:\n",
    "        print('더 큰 수입니다.')\n",
    "    else:\n",
    "        print('더 작은 수입니다.')"
   ]
  },
  {
   "cell_type": "code",
   "execution_count": null,
   "id": "74aa7191",
   "metadata": {},
   "outputs": [],
   "source": [
    "#while True 는 무한반복 의미 = while 양의 정수\n",
    "#스무고개 게임\n",
    "import random\n",
    "\n",
    "com= random.randrange(1,21)\n",
    "while True:\n",
    "    user=in(input(\"1~20 사이의 수 입력:\"))\n",
    "    if com==user :\n",
    "        print('맞췄습니다')\n",
    "        break\n",
    "    elif com>user:\n",
    "        print('더 큰 수입니다.')\n",
    "    else:\n",
    "        print('더 작은 수입니다.')          # 2번줄과 같은 결과"
   ]
  },
  {
   "cell_type": "code",
   "execution_count": null,
   "id": "8f5f760d",
   "metadata": {},
   "outputs": [],
   "source": [
    "# break 와 continue \n",
    "# break는 반복 조건문 탈출시 사용하고\n",
    "#continue는 밑의 코드를 실행하지 않고 다시 시작"
   ]
  },
  {
   "cell_type": "code",
   "execution_count": null,
   "id": "b4b2d1ee",
   "metadata": {},
   "outputs": [],
   "source": [
    "for dan in range(2,10):\n",
    "    if dan%2==1:\n",
    "        continue\n",
    "    print('\\n%d단:' % dan,end='')\n",
    "    for num in range(1,10):\n",
    "        print('%dx%d=%d '%(dan,num,dan*num),end='')"
   ]
  },
  {
   "cell_type": "code",
   "execution_count": null,
   "id": "e5d1e9a9",
   "metadata": {},
   "outputs": [],
   "source": [
    "dan=2\n",
    "for k in range(72):\n",
    "    num =k%9+1\n",
    "    print('%d*%d=%d '%(dan,num,dan*num),end='')\n",
    "    if num==9:\n",
    "        dan=dan+1\n",
    "        print()"
   ]
  },
  {
   "cell_type": "code",
   "execution_count": null,
   "id": "88fc24e7",
   "metadata": {},
   "outputs": [],
   "source": [
    "mul=1\n",
    "for k in range(9,0,-2):\n",
    "    mul*=k\n",
    "print('mul=',mul)\n",
    "\n",
    "\n",
    "print('\\n')\n",
    "mul=1\n",
    "for k in range(9,0,-2):\n",
    "    mul*=k\n",
    "    print('mul=',mul)"
   ]
  },
  {
   "cell_type": "code",
   "execution_count": null,
   "id": "fc5fd1fb",
   "metadata": {},
   "outputs": [],
   "source": [
    "#7강 시작\n",
    "#변수에 저장되는 값은 하나밖에 없다."
   ]
  },
  {
   "cell_type": "code",
   "execution_count": null,
   "id": "88b0cf19",
   "metadata": {},
   "outputs": [],
   "source": [
    "#arr=[1,2,3,4,5] 라 쓰면 변수 5개를 하나로 묶은 리시트로 만든 것이다. 대괄호[]와 ,콤마로 표현한다.\n",
    "#arr=[12,34,56]이 있으면 arr[0]=12 , arr[1]=34, arr[2]=58이다\n",
    "#arr안에는 정수 실수 스트링 불린 모두 저장 가능하다.\n",
    "#index 는 0부터 시작 arr, index 모두 정수이다 (음수x)"
   ]
  },
  {
   "cell_type": "code",
   "execution_count": null,
   "id": "3acf8dd2",
   "metadata": {},
   "outputs": [],
   "source": [
    "arr=[12,23,45]\n",
    "sum(arr)\n"
   ]
  },
  {
   "cell_type": "code",
   "execution_count": null,
   "id": "3c6e1907",
   "metadata": {},
   "outputs": [],
   "source": [
    "arr[0]=30\n",
    "arr[1]=40\n",
    "sum=arr[0]+arr[1]\n",
    "sum"
   ]
  },
  {
   "cell_type": "code",
   "execution_count": null,
   "id": "5680cc26",
   "metadata": {},
   "outputs": [],
   "source": [
    "arr=[12,23,45]\n",
    "sum(arr)\n",
    "sum=arr[0]+arr[1]+arr[2]\n",
    "print(sum)"
   ]
  },
  {
   "cell_type": "code",
   "execution_count": null,
   "id": "e9d54867",
   "metadata": {},
   "outputs": [],
   "source": [
    "import random as r  #import random을 하는데 r로 축약을 하겠다(as)"
   ]
  },
  {
   "cell_type": "code",
   "execution_count": null,
   "id": "881e31c4",
   "metadata": {},
   "outputs": [],
   "source": [
    "#arr=[]*10 dms 10개의 빈 리스트를 만든다\n",
    "#arr=list() 는 arr=[] 과 같은 말이다.\n",
    "#2개 이상의 자료가 있어야 list 취급\n",
    "#arr의 더하기 연산은 병합이다.\n",
    "#삭제하는 법은 del(index)\n"
   ]
  },
  {
   "cell_type": "code",
   "execution_count": null,
   "id": "fb7b41cd",
   "metadata": {},
   "outputs": [],
   "source": [
    "import random as r\n",
    "for k in range(200):\n",
    "    for s in range(26):\n",
    "        for m in range(0,r.randrange(1,58)):\n",
    "            print('ㅁ',end='')\n",
    "        print()"
   ]
  },
  {
   "cell_type": "raw",
   "id": "3ac1d0e8",
   "metadata": {},
   "source": []
  },
  {
   "cell_type": "code",
   "execution_count": 4,
   "id": "6db7fdc2",
   "metadata": {},
   "outputs": [
    {
     "data": {
      "text/plain": [
       "[12, 23, 34, 12, 23, 34, 10]"
      ]
     },
     "execution_count": 4,
     "metadata": {},
     "output_type": "execute_result"
    }
   ],
   "source": [
    "#기존 리스트에 새로운 리스트 추가를 원하면 .append()를 사용한다, 가장 마지막 원소로 들어감 = 더하기와 같은 개념\n",
    "arr=[12,23,34]\n",
    "b=arr+[10]\n",
    "c=b*2\n",
    "c.remove(10)    #c에 곱하기 2를 하였는데 여기서 remove 사용시 처음()괄호안에 값만 삭제가 된다.\n"
   ]
  },
  {
   "cell_type": "code",
   "execution_count": 6,
   "id": "57129839",
   "metadata": {},
   "outputs": [
    {
     "data": {
      "text/plain": [
       "[12, 23, 34, 10]"
      ]
     },
     "execution_count": 6,
     "metadata": {},
     "output_type": "execute_result"
    }
   ],
   "source": [
    "b"
   ]
  },
  {
   "cell_type": "code",
   "execution_count": 7,
   "id": "2c1f7a19",
   "metadata": {},
   "outputs": [
    {
     "data": {
      "text/plain": [
       "[12, 23, 34, 12, 23, 34, 10]"
      ]
     },
     "execution_count": 7,
     "metadata": {},
     "output_type": "execute_result"
    }
   ],
   "source": [
    "c"
   ]
  },
  {
   "cell_type": "code",
   "execution_count": 20,
   "id": "f8927426",
   "metadata": {},
   "outputs": [
    {
     "data": {
      "text/plain": [
       "[10, 12, 12, 23, 23, 34, 34]"
      ]
     },
     "execution_count": 20,
     "metadata": {},
     "output_type": "execute_result"
    }
   ],
   "source": [
    "c.sort\n",
    "c\n",
    "d=sorted(c)            #정렬 후 복사\n",
    "d"
   ]
  },
  {
   "cell_type": "code",
   "execution_count": null,
   "id": "294f94ae",
   "metadata": {},
   "outputs": [],
   "source": [
    "#리스트에서 하나의 값을 표현한것은 리스트가 아니다 "
   ]
  }
 ],
 "metadata": {
  "kernelspec": {
   "display_name": "Python 3 (ipykernel)",
   "language": "python",
   "name": "python3"
  },
  "language_info": {
   "codemirror_mode": {
    "name": "ipython",
    "version": 3
   },
   "file_extension": ".py",
   "mimetype": "text/x-python",
   "name": "python",
   "nbconvert_exporter": "python",
   "pygments_lexer": "ipython3",
   "version": "3.9.12"
  }
 },
 "nbformat": 4,
 "nbformat_minor": 5
}
