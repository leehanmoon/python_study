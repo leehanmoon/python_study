{
 "cells": [
  {
   "cell_type": "code",
   "execution_count": 1,
   "id": "721e485f",
   "metadata": {},
   "outputs": [
    {
     "name": "stdout",
     "output_type": "stream",
     "text": [
      "qwe\n"
     ]
    }
   ],
   "source": [
    "print(\"qwe\")"
   ]
  },
  {
   "cell_type": "code",
   "execution_count": 4,
   "id": "0d996d63",
   "metadata": {},
   "outputs": [
    {
     "name": "stdout",
     "output_type": "stream",
     "text": [
      "예3)\n",
      "점의 좌표 x,y를 입력: -3 -4\n",
      "점은 원주 위에 있음\n"
     ]
    }
   ],
   "source": [
    "print('예3)')\n",
    "x,y= map(int,input(\"점의 좌표 x,y를 입력: \").split())\n",
    "area=x**2+y**2\n",
    "if(area>25):\n",
    "    print(\"점은 원의 외부에 있음\")\n",
    "elif (area==25):\n",
    "    print(\"점은 원주 위에 있음\")\n",
    "else:\n",
    "    print('점은 원의 내부에 있음')\n"
   ]
  },
  {
   "cell_type": "code",
   "execution_count": 24,
   "id": "37199e73",
   "metadata": {},
   "outputs": [
    {
     "name": "stdout",
     "output_type": "stream",
     "text": [
      "예2)\n",
      "알파벳 입력: t\n",
      "자음입니다\n"
     ]
    }
   ],
   "source": [
    "print('예2)')\n",
    "eng=(input('알파벳 입력: '))\n",
    "ord(eng)\n",
    "if ord(eng)==97 or ord(eng)==101 or ord(eng)==105 or ord(eng)==111 or ord(eng)==117:\n",
    "    print('모음입니다')\n",
    "else :\n",
    "    print('자음입니다')\n"
   ]
  },
  {
   "cell_type": "code",
   "execution_count": null,
   "id": "d6d40c7d",
   "metadata": {},
   "outputs": [],
   "source": []
  },
  {
   "cell_type": "code",
   "execution_count": null,
   "id": "e7cc0542",
   "metadata": {},
   "outputs": [],
   "source": []
  }
 ],
 "metadata": {
  "kernelspec": {
   "display_name": "Python 3 (ipykernel)",
   "language": "python",
   "name": "python3"
  },
  "language_info": {
   "codemirror_mode": {
    "name": "ipython",
    "version": 3
   },
   "file_extension": ".py",
   "mimetype": "text/x-python",
   "name": "python",
   "nbconvert_exporter": "python",
   "pygments_lexer": "ipython3",
   "version": "3.9.12"
  }
 },
 "nbformat": 4,
 "nbformat_minor": 5
}
