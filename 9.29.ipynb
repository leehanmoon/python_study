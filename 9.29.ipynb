{
 "cells": [
  {
   "cell_type": "code",
   "execution_count": null,
   "id": "4154eddd",
   "metadata": {},
   "outputs": [],
   "source": [
    "#2주차 과제 풀이\n",
    "a=input('알페벳: 입력')\n",
    "if (a=='a' or a=='e' or a=='i' or a=='u' or a=='o'):   #if(a==\"a'or'e'....\")라고 쓰면 안된다 ==값이 맨앞에만 걸려있어서\n",
    "    print(\"모음입니다\")\n",
    "else:\n",
    "    print(\"자음입니다\")"
   ]
  },
  {
   "cell_type": "code",
   "execution_count": null,
   "id": "573c23de",
   "metadata": {},
   "outputs": [],
   "source": [
    "#위와 다른 방법 과제풀이\n",
    "a=input('알페벳 입력:')\n",
    "if a in(\"a\",'e','i','o','u'):    #in은 or의 연속이다 즉, a가 in의()안에 있는 것들 중 하나이면.. 참이라고 해라!라는 뜻\n",
    "    print(\"모음입니다\")\n",
    "else :\n",
    "    print(\"자음입니다\")"
   ]
  },
  {
   "cell_type": "code",
   "execution_count": null,
   "id": "cfd2aa5c",
   "metadata": {},
   "outputs": [],
   "source": []
  },
  {
   "cell_type": "code",
   "execution_count": null,
   "id": "f490282a",
   "metadata": {},
   "outputs": [],
   "source": [
    "#수업시작(6.반복문) 조건이 만족될 때까지 (초기값문제, 연산문제)\n"
   ]
  },
  {
   "cell_type": "code",
   "execution_count": null,
   "id": "853ff2e8",
   "metadata": {},
   "outputs": [],
   "source": []
  },
  {
   "cell_type": "code",
   "execution_count": null,
   "id": "de2306fc",
   "metadata": {},
   "outputs": [],
   "source": [
    "import os\n",
    "\n",
    "order=60\n",
    "while order>0:\n",
    "    print('%d 마리 통닭 튀긴다'% order)\n",
    "    order=order-1\n",
    "    os.system('cls')\n",
    "print(\"다 튀겼닭\")"
   ]
  },
  {
   "cell_type": "code",
   "execution_count": null,
   "id": "cdd15dc9",
   "metadata": {},
   "outputs": [],
   "source": [
    "import time        #실제 시간에 대해서 사용하겠다\n",
    "print('hello')\n",
    "time.sleep(1)       #(1)초동안 멈췄다가 나와라\n",
    "print('bye')"
   ]
  },
  {
   "cell_type": "code",
   "execution_count": null,
   "id": "e0ef213a",
   "metadata": {},
   "outputs": [],
   "source": [
    "i=range(x,y)        # x<=범위<y    y 포함xxxxxxxxxxxx\n",
    "\n",
    "range(0,y)=range(y)\n",
    "\n",
    "range(이상,미만,증가값) ex)range(1,6,2)=1,3,5\n",
    "그럼 10이하의 짝수는? range(2,11,2)=2,4,6,8,10\n"
   ]
  },
  {
   "cell_type": "code",
   "execution_count": null,
   "id": "f51f9006",
   "metadata": {},
   "outputs": [],
   "source": [
    "for k in range(1,61):\n",
    "    print('%d 통닭 튀기기'% k)\n",
    "print('기름을 바꾸다')"
   ]
  },
  {
   "cell_type": "code",
   "execution_count": 1,
   "id": "8ba07f91",
   "metadata": {},
   "outputs": [
    {
     "name": "stdout",
     "output_type": "stream",
     "text": [
      "240\n"
     ]
    }
   ],
   "source": [
    "s=0\n",
    "for i in range(2,31,2):\n",
    "    s+=i\n",
    "print(s)"
   ]
  },
  {
   "cell_type": "code",
   "execution_count": null,
   "id": "293e4c7e",
   "metadata": {},
   "outputs": [],
   "source": [
    "#n! 값 구하기 \n",
    "\n",
    "n=int(input(\"정수 n을 입력하시오\"))\n",
    "fac=1\n",
    "for i in range(1,n+1):\n",
    "    fac=fac*i\n",
    "print(fac)\n",
    "\n",
    "\n",
    "\n",
    "n=int(input(\"정수 n을 입력하시오\"))\n",
    "for i in range(1,n):\n",
    "    n=n*i\n",
    "print(n)                       \n",
    "#위의것이 되고 이게 안되는 이유는 처음 n의 값을 고정받고 시작하는데 \n",
    "#범위값에 넣어버리면 처음 입력받아 고정되어야 할 n값이 만족할때까지 변화하기 때문에\n",
    "#반복에서 빠져나올수가 없다.\n"
   ]
  },
  {
   "cell_type": "code",
   "execution_count": 2,
   "id": "df6d5582",
   "metadata": {},
   "outputs": [
    {
     "name": "stdout",
     "output_type": "stream",
     "text": [
      "42849873690624000\n"
     ]
    }
   ],
   "source": [
    "#30까지의 짝수들의 곱\n",
    "s=1\n",
    "for i in range(2,31,2):\n",
    "    s*=i\n",
    "print(s)\n",
    "#만약에 print문이 for문 안에 있다면 반복이 끝날때까지 반복프린트"
   ]
  },
  {
   "cell_type": "code",
   "execution_count": 3,
   "id": "2ea49d19",
   "metadata": {},
   "outputs": [
    {
     "name": "stdout",
     "output_type": "stream",
     "text": [
      "이어서출력\n"
     ]
    }
   ],
   "source": [
    "#print문에서 end=''를 넣으면 줄바꿈을 하지 않는다\n",
    "print('이어서',end='')\n",
    "print('출력')"
   ]
  },
  {
   "cell_type": "code",
   "execution_count": null,
   "id": "8ab649c3",
   "metadata": {},
   "outputs": [],
   "source": [
    "for i in range(10):\n",
    "    print(i)\n",
    "for i in range(10):\n",
    "    print(i,end=\"\")"
   ]
  },
  {
   "cell_type": "code",
   "execution_count": 4,
   "id": "3d7bf231",
   "metadata": {},
   "outputs": [
    {
     "name": "stdout",
     "output_type": "stream",
     "text": [
      "a\n",
      "b\n",
      "c\n"
     ]
    }
   ],
   "source": [
    "for k in 'abc':\n",
    "    print(k)"
   ]
  },
  {
   "cell_type": "code",
   "execution_count": null,
   "id": "1ae4a962",
   "metadata": {},
   "outputs": [],
   "source": [
    "import random\n",
    "\n",
    "userwin,comwin=0,0\n",
    "for k in range(3):\n",
    "    com=random.randrange(0,2)  #randrange는 2포함 x\n",
    "    user=int(input('\\n홀 0, 짝 1:'))\n",
    "    \n",
    "    if com==user:\n",
    "        print('사용자승')\n",
    "        userwin=userwin+1\n",
    "    else:\n",
    "        print('컴퓨터승')\n",
    "        comwin=comwin+1\n",
    "print('\\nuserwin:%d, comwin:%d' % (userwin,comwin))"
   ]
  },
  {
   "cell_type": "code",
   "execution_count": null,
   "id": "9e2d9fff",
   "metadata": {},
   "outputs": [],
   "source": [
    "#누구든 3번만 이기면 게임끝남 -> 최대게임 5번이됌 \n",
    "import random\n",
    "\n",
    "userwin,comwin=0,0\n",
    "for k in range(5):\n",
    "    com=random.randrange(0,2)  #randrange는 2포함 x\n",
    "    user=int(input('\\n홀 0, 짝 1:'))\n",
    "    \n",
    "    if com==user:\n",
    "        print('사용자승')\n",
    "        userwin=userwin+1\n",
    "    else:\n",
    "        print('컴퓨터승')\n",
    "        comwin=comwin+1\n",
    "    \n",
    "    if (userwin==3 or comwin==3):\n",
    "        break\n",
    "print('\\nuserwin:%d, comwin:%d' % (userwin,comwin))\n",
    "if userwin==3 :\n",
    "    print('사용자 최종승리')\n",
    "elif comwin==3:\n",
    "    print('컴퓨터 최종승리')"
   ]
  },
  {
   "cell_type": "code",
   "execution_count": null,
   "id": "960641c1",
   "metadata": {},
   "outputs": [],
   "source": [
    "while 1:            #무한반복 여기서 반복을 멈출려면 break 사용1"
   ]
  },
  {
   "cell_type": "code",
   "execution_count": null,
   "id": "2ec4b9f1",
   "metadata": {},
   "outputs": [],
   "source": [
    "#다중반복문 구구단\n",
    "for dan in range(2,10):       #시침-시침이 돈다,\n",
    "    for num in range(1,10):   #분침-분침이 다 돌아야\n",
    "        print('%d단: %d*%d=%d' %(dan,dan,num,(dan*num)))\n",
    "        \n",
    "        \n",
    "        \n",
    "for dan in range(2,10):       #시침-시침이 돈다,\n",
    "    print('\\n%d단: '% dan,end='')\n",
    "    for num in range(1,10):   #분침-분침이 다 돌아야\n",
    "        print('%d*%d=%d' %(dan,num,(dan*num)))"
   ]
  },
  {
   "cell_type": "code",
   "execution_count": 1,
   "id": "abb06de5",
   "metadata": {},
   "outputs": [
    {
     "name": "stdout",
     "output_type": "stream",
     "text": [
      "분의 입력:0\n",
      "초의 입력10\n",
      "0분 10초\n",
      "0분 10초\n",
      "0분 9초\n",
      "0분 9초\n",
      "0분 8초\n",
      "0분 8초\n",
      "0분 7초\n",
      "0분 7초\n",
      "0분 6초\n",
      "0분 6초\n",
      "0분 5초\n",
      "0분 5초\n",
      "0분 4초\n",
      "0분 4초\n",
      "0분 3초\n",
      "0분 3초\n",
      "0분 2초\n",
      "0분 2초\n",
      "0분 1초\n",
      "0분 1초\n",
      "0분 0초\n",
      "0분 0초\n",
      "그만 튀기자\n",
      "그만 튀기자\n"
     ]
    }
   ],
   "source": [
    "import time\n",
    "import os\n",
    "\n",
    "min=int(input('분의 입력:'))\n",
    "sec=int(input('초의 입력'))\n",
    "\n",
    "for m in range(min,-1,-1):  #초의 마지막은 0이어서 -1로 미만값두고 초는 1초식 줄기때문에 범위를 -1로 한다\n",
    "    for s in range(sec,-1,-1):\n",
    "        os.system('cls')\n",
    "        print('%d분 %d초'%(m,s))\n",
    "        time.sleep(1)\n",
    "    sec=59\n",
    "print('그만 튀기자')\n"
   ]
  },
  {
   "cell_type": "code",
   "execution_count": null,
   "id": "a0c7ab10",
   "metadata": {},
   "outputs": [],
   "source": [
    "\n",
    "\n"
   ]
  },
  {
   "cell_type": "code",
   "execution_count": null,
   "id": "99b1c073",
   "metadata": {},
   "outputs": [],
   "source": []
  }
 ],
 "metadata": {
  "kernelspec": {
   "display_name": "Python 3 (ipykernel)",
   "language": "python",
   "name": "python3"
  },
  "language_info": {
   "codemirror_mode": {
    "name": "ipython",
    "version": 3
   },
   "file_extension": ".py",
   "mimetype": "text/x-python",
   "name": "python",
   "nbconvert_exporter": "python",
   "pygments_lexer": "ipython3",
   "version": "3.9.12"
  }
 },
 "nbformat": 4,
 "nbformat_minor": 5
}
