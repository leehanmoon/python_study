{
 "cells": [
  {
   "cell_type": "code",
   "execution_count": 64,
   "id": "01664b5a",
   "metadata": {},
   "outputs": [
    {
     "name": "stdout",
     "output_type": "stream",
     "text": [
      "시작값==>10\n",
      "끝값==>40\n",
      "증가값==>7\n",
      "10에서 40까지 7씩 증가한 값의 합: 120\n"
     ]
    }
   ],
   "source": [
    "#3차과제 1번정답\n",
    "\n",
    "start=int(input('시작값==>'))\n",
    "end=int(input('끝값==>'))\n",
    "add=int(input('증가값==>'))\n",
    "sum=0\n",
    "while True:\n",
    "    sum=sum+start\n",
    "    start=start+add\n",
    "    if start>end:\n",
    "        break\n",
    "print('10에서 40까지 7씩 증가한 값의 합:',sum)\n",
    "    "
   ]
  },
  {
   "cell_type": "code",
   "execution_count": 66,
   "id": "0148270d",
   "metadata": {},
   "outputs": [
    {
     "name": "stdout",
     "output_type": "stream",
     "text": [
      "1=*\n",
      "2=*\n",
      "3=3의 배수\n",
      "4=*\n",
      "5=5의 배수\n",
      "6=3의 배수\n",
      "7=*\n",
      "8=*\n",
      "9=3의 배수\n",
      "10=5의 배수\n",
      "11=*\n",
      "12=3의 배수\n",
      "13=*\n",
      "14=*\n",
      "15=3과 5의 공배수\n",
      "16=*\n",
      "17=*\n",
      "18=3의 배수\n",
      "19=*\n",
      "20=5의 배수\n",
      "21=3의 배수\n",
      "22=*\n",
      "23=*\n",
      "24=3의 배수\n",
      "25=5의 배수\n",
      "26=*\n",
      "27=3의 배수\n",
      "28=*\n",
      "29=*\n",
      "30=3과 5의 공배수\n",
      "31=*\n",
      "32=*\n",
      "33=3의 배수\n",
      "34=*\n",
      "35=5의 배수\n",
      "36=3의 배수\n",
      "37=*\n",
      "38=*\n",
      "39=3의 배수\n",
      "40=5의 배수\n",
      "41=*\n",
      "42=3의 배수\n",
      "43=*\n",
      "44=*\n",
      "45=3과 5의 공배수\n",
      "46=*\n",
      "47=*\n",
      "48=3의 배수\n",
      "49=*\n",
      "50=5의 배수\n",
      "51=3의 배수\n",
      "52=*\n",
      "53=*\n",
      "54=3의 배수\n",
      "55=5의 배수\n",
      "56=*\n",
      "57=3의 배수\n",
      "58=*\n",
      "59=*\n",
      "60=3과 5의 공배수\n",
      "61=*\n",
      "62=*\n",
      "63=3의 배수\n",
      "64=*\n",
      "65=5의 배수\n",
      "66=3의 배수\n",
      "67=*\n",
      "68=*\n",
      "69=3의 배수\n",
      "70=5의 배수\n",
      "71=*\n",
      "72=3의 배수\n",
      "73=*\n",
      "74=*\n",
      "75=3과 5의 공배수\n",
      "76=*\n",
      "77=*\n",
      "78=3의 배수\n",
      "79=*\n",
      "80=5의 배수\n",
      "81=3의 배수\n",
      "82=*\n",
      "83=*\n",
      "84=3의 배수\n",
      "85=5의 배수\n",
      "86=*\n",
      "87=3의 배수\n",
      "88=*\n",
      "89=*\n",
      "90=3과 5의 공배수\n",
      "91=*\n",
      "92=*\n",
      "93=3의 배수\n",
      "94=*\n",
      "95=5의 배수\n",
      "96=3의 배수\n",
      "97=*\n",
      "98=*\n",
      "99=3의 배수\n"
     ]
    }
   ],
   "source": [
    "#3차과제 2번정답\n",
    "\n",
    "for k in range(1,100):\n",
    "    if k%3==0 and k%5==0:\n",
    "        print('%d=3과 5의 공배수'% k)\n",
    "    elif k%3==0:\n",
    "        print('%d=3의 배수'%k)\n",
    "    elif k%5==0:\n",
    "        print('%d=5의 배수'%k)\n",
    "    else:\n",
    "        print('%d=*'%k)"
   ]
  },
  {
   "cell_type": "code",
   "execution_count": 9,
   "id": "ec894c9e",
   "metadata": {},
   "outputs": [
    {
     "name": "stdout",
     "output_type": "stream",
     "text": [
      "숫자 입력: 5\n",
      "결과는 55입니다\n"
     ]
    }
   ],
   "source": [
    "#3차과제 3번정답\n",
    "\n",
    "n=int(input('숫자 입력: '))\n",
    "sum=0\n",
    "for k in range(1,n+1):\n",
    "    n=k**2\n",
    "    sum=sum+n\n",
    "print('결과는 %d입니다'% sum)"
   ]
  },
  {
   "cell_type": "code",
   "execution_count": 4,
   "id": "8e394428",
   "metadata": {},
   "outputs": [
    {
     "name": "stdout",
     "output_type": "stream",
     "text": [
      "숫자 입력: 100\n",
      "결과는 1.6349839001848923입니다.\n"
     ]
    }
   ],
   "source": [
    "#3차과제 4번정답\n",
    "\n",
    "n=int(input('숫자 입력: '))\n",
    "sum=0\n",
    "for k in range(1,n+1):\n",
    "    n=1/k**2\n",
    "    sum+=n\n",
    "print('결과는 %.16f입니다.'% sum)"
   ]
  },
  {
   "cell_type": "code",
   "execution_count": 44,
   "id": "15707a91",
   "metadata": {},
   "outputs": [
    {
     "name": "stdout",
     "output_type": "stream",
     "text": [
      "세 자리 암스트롱 수:  153 370 371 407"
     ]
    }
   ],
   "source": [
    "#3차과제 5번정답\n",
    "\n",
    "print(\"세 자리 암스트롱 수: \",end='')\n",
    "for k in range(100,1000):\n",
    "    hun=int(k//100)\n",
    "    ten=int((k-hun*100)//10)\n",
    "    one=int(k-hun*100-ten*10)\n",
    "    sum=hun**3+ten**3+one**3\n",
    "    if k==hun**3+ten**3+one**3:\n",
    "        print(' %d'%k ,end='')"
   ]
  },
  {
   "cell_type": "code",
   "execution_count": 55,
   "id": "b0f248d7",
   "metadata": {},
   "outputs": [
    {
     "name": "stdout",
     "output_type": "stream",
     "text": [
      "100번 던진 주사위 값의 평균은 3.70입니다.\n",
      "100번 던진 주사위 값의 평균은 3.63입니다.\n",
      "100번 던진 주사위 값의 평균은 3.58입니다.\n"
     ]
    }
   ],
   "source": [
    "#3차과제 6번정답\n",
    "\n",
    "import random\n",
    "\n",
    "result=0\n",
    "for k in range(1,101):\n",
    "    result+=random.randrange(1,7)\n",
    "    average=result/100\n",
    "print('100번 던진 주사위 값의 평균은 %.2f입니다.'% average)\n",
    "import random\n",
    "\n",
    "result=0\n",
    "for k in range(1,101):\n",
    "    result+=random.randrange(1,7)\n",
    "    average=result/100\n",
    "print('100번 던진 주사위 값의 평균은 %.2f입니다.'% average)\n",
    "import random\n",
    "\n",
    "result=0\n",
    "for k in range(1,101):\n",
    "    result+=random.randrange(1,7)\n",
    "    average=result/100\n",
    "print('100번 던진 주사위 값의 평균은 %.2f입니다.'% average)"
   ]
  },
  {
   "cell_type": "code",
   "execution_count": 63,
   "id": "934c9cd3",
   "metadata": {},
   "outputs": [
    {
     "name": "stdout",
     "output_type": "stream",
     "text": [
      "세 자리 정수 입력 : 369\n",
      "입력한 수는 삼백육십구입니다.\n"
     ]
    }
   ],
   "source": [
    "#3차과제 7번정답\n",
    "\n",
    "korean_dict = {1 : \"일\", 2 : \"이\", 3 : \"삼\", 4 : \"사\", 5 : \"오\", 6 : \"육\", 7 : \"칠\", 8 : \"팔\", 9 : \"구\"}\n",
    "\n",
    "n = int(input(\"세 자리 정수 입력 : \"))\n",
    "hun = int(n / 100)\n",
    "ten = int((n - hun * 100) / 10)\n",
    "one = int(n - hun * 100 - ten * 10)\n",
    "print(\"입력한 수는 %s백%s십%s입니다.\"% (korean_dict[hun],korean_dict[ten],korean_dict[one]))"
   ]
  },
  {
   "cell_type": "code",
   "execution_count": null,
   "id": "fa9be7bf",
   "metadata": {},
   "outputs": [],
   "source": []
  }
 ],
 "metadata": {
  "kernelspec": {
   "display_name": "Python 3 (ipykernel)",
   "language": "python",
   "name": "python3"
  },
  "language_info": {
   "codemirror_mode": {
    "name": "ipython",
    "version": 3
   },
   "file_extension": ".py",
   "mimetype": "text/x-python",
   "name": "python",
   "nbconvert_exporter": "python",
   "pygments_lexer": "ipython3",
   "version": "3.9.12"
  }
 },
 "nbformat": 4,
 "nbformat_minor": 5
}
