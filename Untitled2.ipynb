{
 "cells": [
  {
   "cell_type": "code",
   "execution_count": 25,
   "id": "5eae44c0",
   "metadata": {},
   "outputs": [
    {
     "name": "stdout",
     "output_type": "stream",
     "text": [
      "처음 값 입력: 1\n",
      "마지막 값 입력: 2\n",
      "두 구간 사이의 합: 1.1666666666666665\n"
     ]
    }
   ],
   "source": [
    "x=int(input('처음 값 입력: '))\n",
    "y=int(input('마지막 값 입력: '))\n",
    "sum=0\n",
    "\n",
    "for x in range(y+1):\n",
    "    sum=sum+(x/(x+1))\n",
    "print('두 구간 사이의 합:',sum)"
   ]
  },
  {
   "cell_type": "code",
   "execution_count": 2,
   "id": "98f429c9",
   "metadata": {},
   "outputs": [
    {
     "name": "stdout",
     "output_type": "stream",
     "text": [
      "날짜 입력: 1월1일\n",
      "일정 입력: 세배\n",
      "날짜 입력: 1월2일\n",
      "일정 입력: 청소\n",
      "날짜 입력: 1월3일\n",
      "일정 입력: 스키\n",
      "++ 일정 ++\n",
      "1월3일 ['스키']\n",
      "1월3일 ['스키']\n",
      "1월3일 ['스키']"
     ]
    }
   ],
   "source": [
    "\n",
    "date=(input('날짜 입력: '))\n",
    "do=(input('일정 입력: '))\n",
    "mydairy={date:[do]}\n",
    "st1='{0} : [{1}]'\n",
    "st2=st1.format(date,do)\n",
    "\n",
    "\n",
    "date=(input('날짜 입력: '))\n",
    "do=(input('일정 입력: '))\n",
    "mydairy={date:[do]}\n",
    "st1='{0} : [{1}]'\n",
    "st2=st1.format(date,do)\n",
    "\n",
    "date=(input('날짜 입력: '))\n",
    "do=(input('일정 입력: '))\n",
    "mydairy={date:[do]}\n",
    "st1='{0} : [{1}]'\n",
    "st2=st1.format(date,do)\n",
    "\n",
    "\n",
    "print('++ 일정 ++')\n",
    "\n",
    "print(date,end='')\n",
    "print('',mydairy[date],end='')\n",
    "print()\n",
    "print(date,end='')\n",
    "print('',mydairy[date],end='')\n",
    "print()\n",
    "print(date,end='')\n",
    "print('',mydairy[date],end='')\n"
   ]
  },
  {
   "cell_type": "markdown",
   "id": "da5462c1",
   "metadata": {},
   "source": [
    "# date=(input('날짜 입력: '))\n",
    "do=(input('일정 입력: '))\n",
    "mydairy={date:[do]}\n",
    "st1='{0} : [{1}]'\n",
    "st2=st1.format(date,do)\n",
    "\n",
    "date=(input('날짜 입력: '))\n",
    "do=(input('일정 입력: '))\n",
    "mydairy={date:[do]}\n",
    "st1='{0} : [{1}]'\n",
    "st2=st1.format(date,do)\n",
    "\n",
    "date=(input('날짜 입력: '))\n",
    "do=(input('일정 입력: '))\n",
    "mydairy={date:[do]}\n",
    "st1='{0} : [{1}]'\n",
    "st2=st1.format(date,do)\n",
    "\n",
    "print('++ 일정 ++')\n",
    "print(st2)\n",
    "print(st2)\n",
    "print(st2)\n"
   ]
  },
  {
   "cell_type": "code",
   "execution_count": 17,
   "id": "a4cbe2f0",
   "metadata": {},
   "outputs": [
    {
     "name": "stdout",
     "output_type": "stream",
     "text": [
      "날짜 입력: 1ㅇ\n",
      "일정 입력: ㅅ\n",
      "1ㅇ 은 ['ㅅ']\n",
      "날짜 입력: 15\n",
      "일정 입력: ㅛ\n",
      "1ㅇ 은 ['ㅅ']\n"
     ]
    }
   ],
   "source": [
    "date=(input('날짜 입력: '))\n",
    "do=(input('일정 입력: '))\n",
    "mydairy={date:[do]}\n",
    "\n",
    "\n",
    "    print(k,'은',mydairy[k])\n",
    "\n",
    "\n",
    "   \n",
    "\n"
   ]
  },
  {
   "cell_type": "code",
   "execution_count": null,
   "id": "ee25eb87",
   "metadata": {},
   "outputs": [],
   "source": []
  }
 ],
 "metadata": {
  "kernelspec": {
   "display_name": "Python 3 (ipykernel)",
   "language": "python",
   "name": "python3"
  },
  "language_info": {
   "codemirror_mode": {
    "name": "ipython",
    "version": 3
   },
   "file_extension": ".py",
   "mimetype": "text/x-python",
   "name": "python",
   "nbconvert_exporter": "python",
   "pygments_lexer": "ipython3",
   "version": "3.9.12"
  }
 },
 "nbformat": 4,
 "nbformat_minor": 5
}
