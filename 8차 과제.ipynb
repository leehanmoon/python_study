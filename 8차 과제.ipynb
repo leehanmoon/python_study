{
 "cells": [
  {
   "cell_type": "code",
   "execution_count": 41,
   "id": "9b16bc00",
   "metadata": {},
   "outputs": [],
   "source": [
    "#1번문제\n",
    "#1-1\n",
    "f = open(\"number.txt\",\"r\")\n",
    "f2 = open(\"number10.txt\", \"w\")\n",
    "\n",
    "lines = f.readlines()\n",
    "for line in lines:\n",
    "    line = line.strip()\n",
    "    num = int(line) * 10\n",
    "    data = \"%d\\n\" % num\n",
    "    f2.write(data)\n",
    "f.close()\n",
    "f2.close()\n",
    "\n",
    "#1-2\n",
    "f = open(\"number.txt\",\"r\")\n",
    "f2 = open(\"number10.txt\", \"r\")\n",
    "lines = f.readlines()\n",
    "lines2 = f2.readlines()\n",
    "\n",
    "with open('merge.txt', 'w') as merge:\n",
    "    for line, line2 in zip(lines, lines2):\n",
    "            merge.write(\"%s : %s\\n\" % (line.strip(), line2.strip()))\n",
    "f.close()\n",
    "f2.close()\n"
   ]
  },
  {
   "cell_type": "code",
   "execution_count": null,
   "id": "e6ce726d",
   "metadata": {},
   "outputs": [],
   "source": [
    "#1번문제 해설\n",
    "\n",
    "#open하고\n",
    "#fori in range(1,11):\n",
    "    #n=int(f.readline())\n",
    "    #f2.write(str(n*10)+'\\n')\n",
    "#close"
   ]
  },
  {
   "cell_type": "code",
   "execution_count": 93,
   "id": "95f49339",
   "metadata": {},
   "outputs": [],
   "source": [
    "#2번문제\n",
    "#2-1\n",
    "import random\n",
    "\n",
    "f = open('r_number.txt','w')\n",
    "\n",
    "for i in range(10):\n",
    "    a=random.randint(1,1000)\n",
    "    f.write(str(a)+' ')\n",
    "f.close()\n",
    "#2-2\n",
    "f = open('r_number.txt','r')\n",
    "f2 = open('r_even.txt','w')\n",
    "line = f.readline()\n",
    "items = line.split()\n",
    "\n",
    "for item in items:\n",
    "    if(int(item) % 2 == 0):\n",
    "        f2.write(\"%s \" %item)\n",
    "\n",
    "f.close()\n",
    "f2.close()"
   ]
  },
  {
   "cell_type": "code",
   "execution_count": null,
   "id": "d2c2d10e",
   "metadata": {},
   "outputs": [],
   "source": [
    "2번해설\n",
    "lst=f.readline().split()\n",
    "for n in lst:\n",
    "    if (int(n)%2==0):\n",
    "        f2.write(str(n)+'')\n",
    "f.close()\n",
    "f2.close()"
   ]
  },
  {
   "cell_type": "code",
   "execution_count": 92,
   "id": "afb3adb9",
   "metadata": {},
   "outputs": [
    {
     "name": "stdout",
     "output_type": "stream",
     "text": [
      "10:8개\n",
      "2:4개\n",
      "3:3개\n",
      "4:3개\n",
      "5:4개\n",
      "6:3개\n",
      "7:1개\n",
      "8:1개\n",
      "9:3개\n"
     ]
    }
   ],
   "source": [
    "#3번문제\n",
    "import random as rand\n",
    "\n",
    "f = open('rand_30.txt','w')\n",
    "for i in range(30):\n",
    "    a=random.randint(1,10)\n",
    "    f.write(str(a)+' ')\n",
    "f.close()\n",
    "\n",
    "f = open('rand_30.txt','r')\n",
    "rand = f.read()  \n",
    "randlist = rand.split()\n",
    "randCount = {} \n",
    " \n",
    "for num in randlist:\n",
    "    randCount[num] = randCount.get(num, 0) + 1     \n",
    "    keys = sorted(randCount.keys())\n",
    " \n",
    "for num in keys:\n",
    "    print(num + ':' + str(randCount[num])+'개') \n",
    "\n",
    "f.close()"
   ]
  },
  {
   "cell_type": "code",
   "execution_count": null,
   "id": "3af7739a",
   "metadata": {},
   "outputs": [],
   "source": [
    "3번해설\n",
    "열고\n",
    "for i in range(0,30):\n",
    "    n=rand.randint(1,10)\n",
    "    f.write(str(n)+'')\n",
    "f.close()\n",
    "\n",
    "list=[]\n",
    "f=open~\n",
    "list=f.read().split()\n",
    "f.close()\n",
    "\n",
    "list=list(map(int,lst))\n",
    "print(lst)\n",
    "\n",
    "for n in range(1,11):\n",
    "    print(\"{:3d}:{}ro\".format(n,list~)"
   ]
  }
 ],
 "metadata": {
  "kernelspec": {
   "display_name": "Python 3 (ipykernel)",
   "language": "python",
   "name": "python3"
  },
  "language_info": {
   "codemirror_mode": {
    "name": "ipython",
    "version": 3
   },
   "file_extension": ".py",
   "mimetype": "text/x-python",
   "name": "python",
   "nbconvert_exporter": "python",
   "pygments_lexer": "ipython3",
   "version": "3.9.12"
  }
 },
 "nbformat": 4,
 "nbformat_minor": 5
}
