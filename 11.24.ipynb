{
 "cells": [
  {
   "cell_type": "code",
   "execution_count": null,
   "id": "88ca6c6c",
   "metadata": {},
   "outputs": [],
   "source": [
    "#13장 시작"
   ]
  },
  {
   "cell_type": "code",
   "execution_count": null,
   "id": "571bc906",
   "metadata": {},
   "outputs": [],
   "source": [
    "# 파일에 데이터를 쓸 때는 write()함수를 사용하고 읽어올 때는 read()를 사용"
   ]
  },
  {
   "cell_type": "code",
   "execution_count": null,
   "id": "8314a2b3",
   "metadata": {},
   "outputs": [],
   "source": [
    "#for k in range(1,5) 라고 할때 k는 int 이기 때문에 str 으로 변환하여 사용하여야 한다"
   ]
  },
  {
   "cell_type": "code",
   "execution_count": null,
   "id": "09517647",
   "metadata": {},
   "outputs": [],
   "source": [
    "file=open('text.txt','w')\n",
    "for k in range(1,5):\n",
    "    file.write(str(k)+'line write')\n",
    "    file.write(str(k)+'hello'+'\\n')\n",
    "file.close()"
   ]
  },
  {
   "cell_type": "code",
   "execution_count": null,
   "id": "1e0761aa",
   "metadata": {},
   "outputs": [],
   "source": [
    "# 한글이 포함된 파일을 열때 open('',encoding='utf-8')을쓴다."
   ]
  },
  {
   "cell_type": "code",
   "execution_count": null,
   "id": "a1f4a9b3",
   "metadata": {},
   "outputs": [],
   "source": [
    "from tkinter import *\n",
    "from tkinter import filedialog\n",
    "\n",
    "def open():\n",
    "    file=filedialog.askopenfile()\n",
    "    text.insert('1.0',file.read())\n",
    "    file.close\n",
    "        \n",
    "def save():\n",
    "    file=filedialog.asksaveasfile()\n",
    "    file.write(text.get('1,0',END+'-1c'))\n",
    "    file.close()\n",
    "    \n",
    "    \n",
    "win=Tk()\n",
    "text=Text(win,width=60,height=20,font=('',15),bg='#ffffee')\n",
    "text.pack()\n",
    "\n",
    "upmenu= Menu(win)\n",
    "dnmenu= Menu(upmenu)\n",
    "upmenu.add_cascade(label='파일',menu=dnmenu)\n",
    "dnmenu.add_command(label='파일열기 Open',command=open)\n",
    "dnmenu.add_command(label='저장하기 Save',command= save)\n",
    "win.config(menu=upmenu)\n",
    "win.mainloop()"
   ]
  },
  {
   "cell_type": "code",
   "execution_count": 5,
   "id": "db700485",
   "metadata": {},
   "outputs": [],
   "source": [
    "mytext='이 일은 쉬운 일이 아닙니다.'\n",
    "f= open('mydata.bin', 'wb')\n",
    "f.write(mytext.encode())\n",
    "f.close()"
   ]
  },
  {
   "cell_type": "code",
   "execution_count": null,
   "id": "fbfd2ba8",
   "metadata": {},
   "outputs": [],
   "source": []
  }
 ],
 "metadata": {
  "kernelspec": {
   "display_name": "Python 3 (ipykernel)",
   "language": "python",
   "name": "python3"
  },
  "language_info": {
   "codemirror_mode": {
    "name": "ipython",
    "version": 3
   },
   "file_extension": ".py",
   "mimetype": "text/x-python",
   "name": "python",
   "nbconvert_exporter": "python",
   "pygments_lexer": "ipython3",
   "version": "3.9.12"
  }
 },
 "nbformat": 4,
 "nbformat_minor": 5
}
