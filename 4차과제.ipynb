{
 "cells": [
  {
   "cell_type": "code",
   "execution_count": 7,
   "id": "76b254d4",
   "metadata": {},
   "outputs": [
    {
     "name": "stdout",
     "output_type": "stream",
     "text": [
      "s_list1=[0, 1, 2, 3, 4]\n",
      "s_list2=[5, 6, 7, 8, 9, 10]\n",
      "s_list3=[11, 12, 13, 14]\n",
      "s_list4= [2, 4, 5, 6, 8, 10]\n",
      "s_list5=[10, 9, 8, 7, 6]\n",
      "s_list6=[10, 8, 6, 4, 2]\n"
     ]
    }
   ],
   "source": [
    "n_list=[0,1,2,3,4,5,6,7,8,9,10,11,12,13,14]\n",
    "arr=list(range(15))\n",
    "print(f's_list1={arr[:5]}')\n",
    "print(f's_list2={arr[5:11]}')\n",
    "print(f's_list3={arr[11:15]}')\n",
    "s_list4=n_list[2:11:2]\n",
    "s_list4.append(5)\n",
    "s_list4.sort()\n",
    "print('s_list4=',s_list4)\n",
    "print(f's_list5={arr[10:5:-1]}')\n",
    "print(f's_list6={arr[10:1:-2]}')"
   ]
  },
  {
   "cell_type": "code",
   "execution_count": 50,
   "id": "31335ff3",
   "metadata": {},
   "outputs": [
    {
     "name": "stdout",
     "output_type": "stream",
     "text": [
      "3*2=6\n",
      "3*3=9\n",
      "3*4=12\n",
      "3*5=15\n",
      "3*6=18\n",
      "5*2=10\n",
      "5*3=15\n",
      "5*4=20\n",
      "5*5=25\n",
      "5*6=30\n",
      "7*2=14\n",
      "7*3=21\n",
      "7*4=28\n",
      "7*5=35\n",
      "7*6=42\n"
     ]
    }
   ],
   "source": [
    "list1=[3,5,7]\n",
    "list2=[2,3,4,5,6]\n",
    "for a in list1:\n",
    "    for b in list2:\n",
    "        mul=a*b\n",
    "        print('%d*%d=%d'% (a,b,mul))"
   ]
  },
  {
   "cell_type": "code",
   "execution_count": 2,
   "id": "18930d5c",
   "metadata": {},
   "outputs": [
    {
     "name": "stdout",
     "output_type": "stream",
     "text": [
      "5개의 수를 입력하세요: 45 67 20 34 15\n",
      "합: 181\n",
      "평균: 36.2\n",
      "최대값: 67\n",
      "최솟값: 15\n"
     ]
    }
   ],
   "source": [
    "num=list(map(int,input('5개의 수를 입력하세요: ').split()))\n",
    "print('합:',sum(num))\n",
    "print('평균:',sum(num)/len(num))\n",
    "print('최대값:',max(num))\n",
    "print('최솟값:',min(num))"
   ]
  },
  {
   "cell_type": "code",
   "execution_count": 30,
   "id": "b47d6aa8",
   "metadata": {},
   "outputs": [
    {
     "name": "stdout",
     "output_type": "stream",
     "text": [
      "주사위를 던질 횟수 입력: 1000\n",
      "주사위 눈이 1 인 횟수 : 154\n",
      "주사위 눈이 2 인 횟수 : 154\n",
      "주사위 눈이 3 인 횟수 : 173\n",
      "주사위 눈이 4 인 횟수 : 187\n",
      "주사위 눈이 5 인 횟수 : 155\n",
      "주사위 눈이 6 인 횟수 : 177\n"
     ]
    }
   ],
   "source": [
    "n=int(input('주사위를 던질 횟수 입력: '))\n",
    "import random\n",
    "dice = [0, 0, 0, 0, 0, 0]\n",
    "\n",
    "for i in range(1000):\n",
    "    value = random.randint(0, 5)\n",
    "    dice[value] = dice[value] +1\n",
    "\n",
    "for i in range(6):\n",
    "    print(\"주사위 눈이\", i+1,\"인 횟수 :\", dice[i])"
   ]
  },
  {
   "cell_type": "code",
   "execution_count": 31,
   "id": "5643bf59",
   "metadata": {},
   "outputs": [
    {
     "name": "stdout",
     "output_type": "stream",
     "text": [
      "[(0, 'apple'), (1, 'banana'), (2, 'grape')]\n"
     ]
    }
   ],
   "source": [
    "mylist = ['apple' ,'banana', 'grape']\n",
    "result = list(enumerate(mylist))\n",
    "print(result)\n",
    "#enumerate함수는 리스트의 원소에 순서값을 부여해주는 함수입니다."
   ]
  },
  {
   "cell_type": "code",
   "execution_count": 3,
   "id": "653d06f8",
   "metadata": {},
   "outputs": [
    {
     "name": "stdout",
     "output_type": "stream",
     "text": [
      "['Cat', 'Panda', 'Owl']\n"
     ]
    }
   ],
   "source": [
    "animal = ['Fox', 'Dog', 'Cat', 'Monkey', 'Horse', 'Panda', 'Owl']\n",
    "print([ani for ani in animal if 'o' not in ani])"
   ]
  },
  {
   "cell_type": "code",
   "execution_count": 33,
   "id": "41429b8e",
   "metadata": {},
   "outputs": [
    {
     "name": "stdout",
     "output_type": "stream",
     "text": [
      "DongUniversity\n"
     ]
    }
   ],
   "source": [
    "name = \"Seokyeong University\"\n",
    "student = [\"Hong\", \"Gil\", \"Dong\"]\n",
    "split_name = name.split()\n",
    "join_student = ''.join(student)\n",
    "print(join_student[-4:] + split_name[1])"
   ]
  },
  {
   "cell_type": "code",
   "execution_count": null,
   "id": "64093863",
   "metadata": {},
   "outputs": [],
   "source": []
  }
 ],
 "metadata": {
  "kernelspec": {
   "display_name": "Python 3 (ipykernel)",
   "language": "python",
   "name": "python3"
  },
  "language_info": {
   "codemirror_mode": {
    "name": "ipython",
    "version": 3
   },
   "file_extension": ".py",
   "mimetype": "text/x-python",
   "name": "python",
   "nbconvert_exporter": "python",
   "pygments_lexer": "ipython3",
   "version": "3.9.12"
  }
 },
 "nbformat": 4,
 "nbformat_minor": 5
}
