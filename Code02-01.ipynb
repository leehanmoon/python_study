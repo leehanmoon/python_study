{
 "cells": [
  {
   "cell_type": "markdown",
   "id": "d7afe582",
   "metadata": {},
   "source": [
    "num=85"
   ]
  },
  {
   "cell_type": "code",
   "execution_count": 44,
   "id": "f514a28a",
   "metadata": {},
   "outputs": [],
   "source": [
    "num=85"
   ]
  },
  {
   "cell_type": "code",
   "execution_count": 45,
   "id": "d344003e",
   "metadata": {},
   "outputs": [
    {
     "data": {
      "text/plain": [
       "int"
      ]
     },
     "execution_count": 45,
     "metadata": {},
     "output_type": "execute_result"
    }
   ],
   "source": [
    "type(num)"
   ]
  },
  {
   "cell_type": "code",
   "execution_count": 46,
   "id": "a6ea189a",
   "metadata": {},
   "outputs": [
    {
     "data": {
      "text/plain": [
       "'100'"
      ]
     },
     "execution_count": 46,
     "metadata": {},
     "output_type": "execute_result"
    }
   ],
   "source": [
    "str(100)"
   ]
  },
  {
   "cell_type": "code",
   "execution_count": 47,
   "id": "7b87d5ee",
   "metadata": {},
   "outputs": [
    {
     "data": {
      "text/plain": [
       "'122.5'"
      ]
     },
     "execution_count": 47,
     "metadata": {},
     "output_type": "execute_result"
    }
   ],
   "source": [
    "str(122.5)"
   ]
  },
  {
   "cell_type": "code",
   "execution_count": 48,
   "id": "f62f0f70",
   "metadata": {},
   "outputs": [
    {
     "data": {
      "text/plain": [
       "\"['a', 'b', 'c']\""
      ]
     },
     "execution_count": 48,
     "metadata": {},
     "output_type": "execute_result"
    }
   ],
   "source": [
    "x=['a','b','c']\n",
    "str(x)"
   ]
  },
  {
   "cell_type": "code",
   "execution_count": 58,
   "id": "f354151a",
   "metadata": {},
   "outputs": [
    {
     "ename": "SyntaxError",
     "evalue": "invalid syntax (3454358513.py, line 1)",
     "output_type": "error",
     "traceback": [
      "\u001b[1;36m  Input \u001b[1;32mIn [58]\u001b[1;36m\u001b[0m\n\u001b[1;33m    txt1=\"친구가 |\"햇님이 좋아\"| 라고 말했다.\"\u001b[0m\n\u001b[1;37m                ^\u001b[0m\n\u001b[1;31mSyntaxError\u001b[0m\u001b[1;31m:\u001b[0m invalid syntax\n"
     ]
    }
   ],
   "source": [
    "txt1=\"친구가 |\"햇님이 좋아\"| 라고 말했다.\"\n"
   ]
  },
  {
   "cell_type": "code",
   "execution_count": 56,
   "id": "a3737587",
   "metadata": {},
   "outputs": [
    {
     "ename": "NameError",
     "evalue": "name 'txt1' is not defined",
     "output_type": "error",
     "traceback": [
      "\u001b[1;31m---------------------------------------------------------------------------\u001b[0m",
      "\u001b[1;31mNameError\u001b[0m                                 Traceback (most recent call last)",
      "Input \u001b[1;32mIn [56]\u001b[0m, in \u001b[0;36m<cell line: 1>\u001b[1;34m()\u001b[0m\n\u001b[1;32m----> 1\u001b[0m \u001b[43mtxt1\u001b[49m\n",
      "\u001b[1;31mNameError\u001b[0m: name 'txt1' is not defined"
     ]
    }
   ],
   "source": [
    "txt1"
   ]
  },
  {
   "cell_type": "code",
   "execution_count": 65,
   "id": "f3f0e430",
   "metadata": {},
   "outputs": [],
   "source": [
    "txt5='banana\\napple\\norange'"
   ]
  },
  {
   "cell_type": "code",
   "execution_count": 66,
   "id": "c39e5e6c",
   "metadata": {},
   "outputs": [
    {
     "data": {
      "text/plain": [
       "'banana\\napple\\norange'"
      ]
     },
     "execution_count": 66,
     "metadata": {},
     "output_type": "execute_result"
    }
   ],
   "source": [
    "txt5"
   ]
  },
  {
   "cell_type": "code",
   "execution_count": 67,
   "id": "97cf4079",
   "metadata": {},
   "outputs": [
    {
     "name": "stdout",
     "output_type": "stream",
     "text": [
      "banana\n",
      "apple\n",
      "orange\n"
     ]
    }
   ],
   "source": [
    "print(txt5)"
   ]
  },
  {
   "cell_type": "code",
   "execution_count": null,
   "id": "81cb2015",
   "metadata": {},
   "outputs": [],
   "source": []
  }
 ],
 "metadata": {
  "kernelspec": {
   "display_name": "Python 3 (ipykernel)",
   "language": "python",
   "name": "python3"
  },
  "language_info": {
   "codemirror_mode": {
    "name": "ipython",
    "version": 3
   },
   "file_extension": ".py",
   "mimetype": "text/x-python",
   "name": "python",
   "nbconvert_exporter": "python",
   "pygments_lexer": "ipython3",
   "version": "3.9.12"
  }
 },
 "nbformat": 4,
 "nbformat_minor": 5
}
