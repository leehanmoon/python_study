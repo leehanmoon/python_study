{
 "cells": [
  {
   "cell_type": "code",
   "execution_count": 3,
   "id": "2b76c60d",
   "metadata": {},
   "outputs": [
    {
     "name": "stdout",
     "output_type": "stream",
     "text": [
      "정수를 입력하시오:-10\n",
      "-10 은(는) 자연수가 아닙니다\n",
      "-10 은(는) 자연수가 아닙니다\n"
     ]
    }
   ],
   "source": [
    "number=int(input('정수를 입력하시오:'))\n",
    "\n",
    "if number>0:\n",
    "    print('%d 은(는) 자연수입니다'%number)\n",
    "else:\n",
    "    print('%d 은(는) 자연수가 아닙니다'%number)"
   ]
  },
  {
   "cell_type": "code",
   "execution_count": 8,
   "id": "4544dfcd",
   "metadata": {},
   "outputs": [
    {
     "name": "stdout",
     "output_type": "stream",
     "text": [
      "dd\n",
      "dd\n"
     ]
    }
   ],
   "source": [
    "score=95\n",
    "if (90<score) and (score<100):\n",
    "    print('dd')"
   ]
  },
  {
   "cell_type": "code",
   "execution_count": null,
   "id": "45d15c43",
   "metadata": {},
   "outputs": [],
   "source": []
  },
  {
   "cell_type": "code",
   "execution_count": null,
   "id": "59856b86",
   "metadata": {},
   "outputs": [],
   "source": []
  }
 ],
 "metadata": {
  "kernelspec": {
   "display_name": "Python 3 (ipykernel)",
   "language": "python",
   "name": "python3"
  },
  "language_info": {
   "codemirror_mode": {
    "name": "ipython",
    "version": 3
   },
   "file_extension": ".py",
   "mimetype": "text/x-python",
   "name": "python",
   "nbconvert_exporter": "python",
   "pygments_lexer": "ipython3",
   "version": "3.9.12"
  }
 },
 "nbformat": 4,
 "nbformat_minor": 5
}
