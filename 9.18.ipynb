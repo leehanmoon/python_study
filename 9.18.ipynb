{
 "cells": [
  {
   "cell_type": "code",
   "execution_count": 14,
   "id": "21288440",
   "metadata": {},
   "outputs": [
    {
     "name": "stdout",
     "output_type": "stream",
     "text": [
      "x 입력:10\n",
      "y 입력:16\n",
      "두수의 합: 26\n",
      "두수의 차: -6\n",
      "두수의 곱: 160\n",
      "두수의 평균: 13.0\n",
      "큰수: 16\n",
      "작은수: 10\n"
     ]
    }
   ],
   "source": [
    "x=int(input('x 입력:'))\n",
    "y=int(input('y 입력:'))\n",
    "print('두수의 합:',x+y)\n",
    "print('두수의 차:',x-y)\n",
    "print('두수의 곱:',x*y)\n",
    "print('두수의 평균:',(x+y)/2)\n",
    "if x<y:\n",
    "    print('큰수:',y)\n",
    "else:\n",
    "    print('작은수:',x) \n",
    "if x>y:\n",
    "    print('큰수:',y)\n",
    "else:\n",
    "    print('작은수:',x)"
   ]
  },
  {
   "cell_type": "code",
   "execution_count": 15,
   "id": "e0179705",
   "metadata": {},
   "outputs": [
    {
     "name": "stdout",
     "output_type": "stream",
     "text": [
      "닭의 수:4\n",
      "돼지의 수:2\n",
      "소의 수:3\n",
      "전체 다리의 수 28\n"
     ]
    }
   ],
   "source": [
    "chicken=int(input('닭의 수:'))\n",
    "pig=int(input('돼지의 수:'))\n",
    "cow=int(input('소의 수:'))\n",
    "sum=2*chicken+4*pig+4*cow\n",
    "print('전체 다리의 수',sum)"
   ]
  },
  {
   "cell_type": "code",
   "execution_count": 20,
   "id": "732dc461",
   "metadata": {},
   "outputs": [
    {
     "name": "stdout",
     "output_type": "stream",
     "text": [
      "시간을 입력하시오:12\n",
      "분을 입력하시오:36\n",
      "12 시간 36 분은 45360 초입니다\n"
     ]
    }
   ],
   "source": [
    "hour=int(input('시간을 입력하시오:'))\n",
    "minute=int(input('분을 입력하시오:'))\n",
    "total_second=3600*hour+60*minute\n",
    "\n",
    "print(\"%d 시간 %d 분은 %d 초입니다\"%(hour,minute,total_second) )"
   ]
  },
  {
   "cell_type": "code",
   "execution_count": 23,
   "id": "3fbc7ddf",
   "metadata": {},
   "outputs": [
    {
     "name": "stdout",
     "output_type": "stream",
     "text": [
      "x1:3\n",
      "y1:4\n",
      "x2:7\n",
      "y2:9\n",
      "두점 사이의 거리는= 6.4031242374328485\n"
     ]
    }
   ],
   "source": [
    "x1=int(input('x1:'))\n",
    "y1=int(input('y1:'))\n",
    "x2=int(input('x2:'))\n",
    "y2=int(input('y2:'))\n",
    "print('두점 사이의 거리는=',((x2-x1)**2+(y2-y1)**2)**(1/2))"
   ]
  },
  {
   "cell_type": "code",
   "execution_count": 25,
   "id": "8eed7716",
   "metadata": {},
   "outputs": [
    {
     "name": "stdout",
     "output_type": "stream",
     "text": [
      "세 자리 정수를 입력하세요:569\n",
      "백의 자리: 5\n",
      "십의 자리: 6\n",
      "일의 자리: 9\n"
     ]
    }
   ],
   "source": [
    "num=int(input('세 자리 정수를 입력하세요:'))\n",
    "x=num//100\n",
    "num=num%100\n",
    "y=num//10\n",
    "num=num%10\n",
    "z=num\n",
    "print('백의 자리:',x)\n",
    "print('십의 자리:',y)\n",
    "print('일의 자리:',z)"
   ]
  },
  {
   "cell_type": "code",
   "execution_count": null,
   "id": "aa486178",
   "metadata": {},
   "outputs": [],
   "source": []
  }
 ],
 "metadata": {
  "kernelspec": {
   "display_name": "Python 3 (ipykernel)",
   "language": "python",
   "name": "python3"
  },
  "language_info": {
   "codemirror_mode": {
    "name": "ipython",
    "version": 3
   },
   "file_extension": ".py",
   "mimetype": "text/x-python",
   "name": "python",
   "nbconvert_exporter": "python",
   "pygments_lexer": "ipython3",
   "version": "3.9.12"
  }
 },
 "nbformat": 4,
 "nbformat_minor": 5
}
