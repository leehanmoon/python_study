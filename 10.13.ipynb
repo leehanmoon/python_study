{
 "cells": [
  {
   "cell_type": "code",
   "execution_count": 5,
   "id": "a5d38a32",
   "metadata": {},
   "outputs": [
    {
     "name": "stdout",
     "output_type": "stream",
     "text": [
      "s_list4=[2, 4, 6, 8, 10, 5]\n"
     ]
    }
   ],
   "source": [
    "#7주차 과제 리뷰\n",
    "#[]로 돼있으면 리스트로 나온다.\n",
    "n_list=[0,1,2,3,4,5,6,7,8,9,10,11,12,13,14]\n",
    "print(f's_list4={n_list[2:11:2]+[5]}')"
   ]
  },
  {
   "cell_type": "code",
   "execution_count": 7,
   "id": "aac7145c",
   "metadata": {},
   "outputs": [],
   "source": [
    "#8주차 시작(7주차 프린트 2차원 리스트부터)"
   ]
  },
  {
   "cell_type": "code",
   "execution_count": 13,
   "id": "be93ef00",
   "metadata": {},
   "outputs": [
    {
     "name": "stdout",
     "output_type": "stream",
     "text": [
      "1 2 3 4 5 6 7 8 9 "
     ]
    }
   ],
   "source": [
    "arr=[[1,2,3],[4,5,6],[7,8,9]]\n",
    "for k in arr:\n",
    "    for m in k:\n",
    "        print(m,'',end='')"
   ]
  },
  {
   "cell_type": "code",
   "execution_count": 14,
   "id": "def5e762",
   "metadata": {},
   "outputs": [
    {
     "name": "stdout",
     "output_type": "stream",
     "text": [
      "1\n",
      "2\n",
      "3\n",
      "4\n",
      "5\n",
      "6\n",
      "7\n",
      "8\n",
      "9\n"
     ]
    }
   ],
   "source": [
    "for k in arr:\n",
    "    for m in k:\n",
    "        print(m)"
   ]
  },
  {
   "cell_type": "code",
   "execution_count": 16,
   "id": "60e7abc0",
   "metadata": {},
   "outputs": [
    {
     "name": "stdout",
     "output_type": "stream",
     "text": [
      "1 4 7 "
     ]
    }
   ],
   "source": [
    "for k in range(3):\n",
    "    print(arr[k][0],'',end='')\n",
    "# 이 뜻은 arr[a][b]는 2차원 리스트라 하는데\n",
    "# a안의 인덱스b를 추출하라는 뜻이다\n",
    "# ex)arr[k][0] 0의 자리의 k의 값 추출\n"
   ]
  },
  {
   "cell_type": "code",
   "execution_count": 16,
   "id": "a2c14ede",
   "metadata": {},
   "outputs": [
    {
     "data": {
      "text/plain": [
       "[50, 40, 20, 10, 5]"
      ]
     },
     "execution_count": 16,
     "metadata": {},
     "output_type": "execute_result"
    }
   ],
   "source": [
    "list=[20,10,40,50,5]\n",
    "list.sort()\n",
    "list1=list\n",
    "list1.reverse()\n",
    "list1"
   ]
  },
  {
   "cell_type": "code",
   "execution_count": 11,
   "id": "0e5a88dd",
   "metadata": {},
   "outputs": [
    {
     "name": "stdout",
     "output_type": "stream",
     "text": [
      "[3.1622776601683795, 4.47213595499958, 5.477225575051661, 6.324555320336759, 7.0710678118654755]\n"
     ]
    }
   ],
   "source": [
    "list1=[10,20,30,40,50]\n",
    "list1=[n**(1/2) for n in list1]\n",
    "print(list1)"
   ]
  },
  {
   "cell_type": "code",
   "execution_count": 17,
   "id": "185fd4a1",
   "metadata": {},
   "outputs": [],
   "source": [
    "#y=f(x)\n",
    "#output=process(input)"
   ]
  },
  {
   "cell_type": "code",
   "execution_count": 18,
   "id": "25cd8805",
   "metadata": {},
   "outputs": [],
   "source": [
    "#8장은 알아서\n",
    "#9장시작"
   ]
  },
  {
   "cell_type": "code",
   "execution_count": 19,
   "id": "2ee44fcf",
   "metadata": {},
   "outputs": [],
   "source": [
    "#list를 쓰는이유는 자료가 있을때마다 이름을 지어주기 싫으니까 리스트로 미리 묶어버림"
   ]
  },
  {
   "cell_type": "code",
   "execution_count": 20,
   "id": "8c90de46",
   "metadata": {},
   "outputs": [],
   "source": [
    "#문자열 'str'도 리스트처럼 사용이 가능하다= index사용이 가능하다"
   ]
  },
  {
   "cell_type": "code",
   "execution_count": 26,
   "id": "1045e15e",
   "metadata": {},
   "outputs": [
    {
     "name": "stdout",
     "output_type": "stream",
     "text": [
      "문자열\n",
      "문자열\n",
      "문 자 열\n",
      "문자열리스트\n",
      "리스트리스트리스트\n"
     ]
    }
   ],
   "source": [
    "str1='문자열'\n",
    "str2='리스트'\n",
    "\n",
    "print(str1)\n",
    "print(str1[0]+str1[1]+str1[2])  #index로도 사용이 가능하다\n",
    "print(str1[0],str1[1],str1[2])\n",
    "print(str1+str2)\n",
    "print(str2*3)"
   ]
  },
  {
   "cell_type": "code",
   "execution_count": 29,
   "id": "ed66b77e",
   "metadata": {},
   "outputs": [
    {
     "name": "stdout",
     "output_type": "stream",
     "text": [
      "자열은\n"
     ]
    }
   ],
   "source": [
    "str1='문자열은 리스트'\n",
    "\n",
    "print(str1[1:4])"
   ]
  },
  {
   "cell_type": "code",
   "execution_count": 30,
   "id": "e57342b3",
   "metadata": {},
   "outputs": [
    {
     "name": "stdout",
     "output_type": "stream",
     "text": [
      "3개의 입력:10 20 30\n",
      "1\n",
      "0\n",
      " \n",
      "2\n",
      "0\n",
      " \n",
      "3\n",
      "0\n"
     ]
    }
   ],
   "source": [
    "#문자열에서 del, append는 사용 불가 \n",
    "#즉, 문자열 그대로만 존재가 가능하다(삭제,추가 불가능)\n",
    "#또한 문자열이 리스트에 저장될 때는 문자 하나당 하나의 리스트에 저장된다.\n",
    "arr=[0]\n",
    "arr=input('3개의 입력:')\n",
    "\n",
    "for k in arr:\n",
    "    print(k)"
   ]
  },
  {
   "cell_type": "code",
   "execution_count": 31,
   "id": "c9870054",
   "metadata": {},
   "outputs": [
    {
     "name": "stdout",
     "output_type": "stream",
     "text": [
      "3개의 입력:10 20 30\n",
      "10\n",
      "20\n",
      "30\n"
     ]
    }
   ],
   "source": [
    "#위처럼 되지 않으려면 split 함수 사용\n",
    "arr=[0]\n",
    "arr=input('3개의 입력:').split()\n",
    "\n",
    "for k in arr:\n",
    "    print(k)"
   ]
  },
  {
   "cell_type": "code",
   "execution_count": 4,
   "id": "062234c0",
   "metadata": {},
   "outputs": [
    {
     "name": "stdout",
     "output_type": "stream",
     "text": [
      "3개 입력:10.2 1 2\n",
      "20.4\n",
      "2.0\n",
      "4.0\n"
     ]
    }
   ],
   "source": [
    "arr=[0]\n",
    "arr=input('3개 입력:').split()\n",
    "b=map(float,arr)          #map()은 arr의 모든 데이터를 정수로 바꾼다.\n",
    "\n",
    "for k in b:\n",
    "    print(k*2)"
   ]
  },
  {
   "cell_type": "code",
   "execution_count": 6,
   "id": "acf5484d",
   "metadata": {},
   "outputs": [
    {
     "name": "stdout",
     "output_type": "stream",
     "text": [
      "사과은 과일\n",
      "사과,포도는 과일\n"
     ]
    }
   ],
   "source": [
    "var1='사과'\n",
    "st1='{0}은 과일'\n",
    "st2='{0},{1}는 과일'\n",
    "\n",
    "st3=st1.format(var1)          #format(st)는 {0}의 위치에 문자열 st가 들어가서 새로운 문자열완성\n",
    "print(st3)\n",
    "st3=st2.format(var1,'포도')\n",
    "print(st3)"
   ]
  },
  {
   "cell_type": "code",
   "execution_count": 7,
   "id": "25744303",
   "metadata": {},
   "outputs": [],
   "source": [
    "#.split() 에 대해서 \n",
    "# 처음 디폴트값으로 공백으로 둔다\n",
    "# 다른 기준을 두려면 .split(' 여기에 기준을 넣는다 ')   ex).split(':')"
   ]
  },
  {
   "cell_type": "code",
   "execution_count": 21,
   "id": "8dc36347",
   "metadata": {},
   "outputs": [
    {
     "name": "stdout",
     "output_type": "stream",
     "text": [
      "split> ['1', '2', '3']\n",
      "join> 소:문:자:a:b:c: :대:문:자:A:B:C\n",
      "replace> 소문자abc*대문자ABC\n",
      "upper> 소문자ABC 대문자ABC\n",
      "lower> 소문자abc 대문자abc\n",
      "swapcase> 소문자ABC 대문자abc\n"
     ]
    }
   ],
   "source": [
    "st1='소문자abc 대문자ABC'\n",
    "\n",
    "print('split>','1:2:3'.split(':'))      #:기준으로 1 2 3 을 나누어라\n",
    "print('join>',':'.join(st1))            #st1와 :를 결합\n",
    "print('replace>',st1.replace(' ','*'))  #.replace('a','b')는 a를b로 바꾸어 표기\n",
    "print('upper>',st1.upper())             #모두 대문자로\n",
    "print('lower>',st1.lower())             #모두 소문자로\n",
    "print('swapcase>',st1.swapcase())       #소문자는 대문자로, 대문자는 소문자로\n"
   ]
  },
  {
   "cell_type": "code",
   "execution_count": 22,
   "id": "aab5980a",
   "metadata": {},
   "outputs": [],
   "source": [
    "#.islower()           #소문자인가?\n",
    "#.isupper()           #대문자인가?\n",
    "#.isalpha()           #영문자인가?\n",
    "#.isdigit()            #숫자인가?\n",
    "#.isalnum()            #영문자 또는 숫자인가?      특수기호 xxxxxxx\n",
    "#.isspace()            #공백문자인가?"
   ]
  },
  {
   "cell_type": "code",
   "execution_count": 25,
   "id": "b61eb7fc",
   "metadata": {},
   "outputs": [
    {
     "name": "stdout",
     "output_type": "stream",
     "text": [
      "암호 입력: dl4136!\n",
      "사용가능\n"
     ]
    }
   ],
   "source": [
    "upp,low,dig,pct=0,0,0,0\n",
    "\n",
    "pswd=input('암호 입력: ')\n",
    "if pswd.isalnum()==False:\n",
    "    pct=1\n",
    "for k in pswd:\n",
    "    if k.isupper():\n",
    "        upp=1\n",
    "    elif k.islower():\n",
    "        low=1\n",
    "    elif k.isdigit():\n",
    "        dig=1\n",
    "        \n",
    "if low + upp+ dig+pct>=3:\n",
    "    print('사용가능')\n",
    "else:\n",
    "    print('사용불가능')"
   ]
  },
  {
   "cell_type": "code",
   "execution_count": 41,
   "id": "d0d94ea8",
   "metadata": {},
   "outputs": [
    {
     "name": "stdout",
     "output_type": "stream",
     "text": [
      "{'사과': 1200, '포도': 2500}\n",
      "2500\n",
      "{'사과': 1200, '포도': 2500, '망고': 3200}\n",
      "{'포도': 2500, '망고': 3200}\n",
      "{'포도': 2500, '망고': 3200, '멜론': 2800}\n",
      "dict_keys(['포도', '망고', '멜론'])\n",
      "dict_values([2500, 3200, 2800])\n",
      "dict_items([('포도', 2500), ('망고', 3200), ('멜론', 2800)])\n",
      "{'포도': 2500, '망고': 3200, '멜론': 2800, '바나나': 1500}\n"
     ]
    }
   ],
   "source": [
    "#딕셔너리(dic)는 데이터에 접근하기 위한 인덱스를 키라고 부르며, {key:value}로 표현된다\n",
    "\n",
    "dic={'사과':1200,'포도':2500}\n",
    "\n",
    "print(dic)\n",
    "print(dic['포도'])\n",
    "\n",
    "dic['망고']=3200            #딕셔너리에 key와 value 추가\n",
    "print(dic)\n",
    "\n",
    "del(dic['사과'])            #딕셔너리에서 사과 삭제\n",
    "print(dic)\n",
    "#딕셔너리에서 key가 중복되면 안된다.\n",
    "\n",
    "if not '멜론' in dic:\n",
    "    dic['멜론']=2800\n",
    "print(dic)\n",
    "\n",
    "\n",
    "print(dic.keys())\n",
    "print(dic.values())\n",
    "print(dic.items())\n",
    "if dic.get('바나나')==None:        #.get(key) key로 value를 얻는것이고 key가 없으면 반환 None으로 \n",
    "    dic['바나나']=1500\n",
    "print(dic)"
   ]
  },
  {
   "cell_type": "code",
   "execution_count": null,
   "id": "018f2b34",
   "metadata": {},
   "outputs": [],
   "source": []
  }
 ],
 "metadata": {
  "kernelspec": {
   "display_name": "Python 3 (ipykernel)",
   "language": "python",
   "name": "python3"
  },
  "language_info": {
   "codemirror_mode": {
    "name": "ipython",
    "version": 3
   },
   "file_extension": ".py",
   "mimetype": "text/x-python",
   "name": "python",
   "nbconvert_exporter": "python",
   "pygments_lexer": "ipython3",
   "version": "3.9.12"
  }
 },
 "nbformat": 4,
 "nbformat_minor": 5
}
