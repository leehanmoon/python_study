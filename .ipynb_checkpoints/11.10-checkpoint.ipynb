{
 "cells": [
  {
   "cell_type": "code",
   "execution_count": null,
   "id": "5af6154c",
   "metadata": {},
   "outputs": [],
   "source": [
    "from tkinter import *"
   ]
  },
  {
   "cell_type": "code",
   "execution_count": null,
   "id": "9cd3923b",
   "metadata": {},
   "outputs": [],
   "source": [
    "win = Tk()"
   ]
  },
  {
   "cell_type": "code",
   "execution_count": null,
   "id": "e91bc015",
   "metadata": {},
   "outputs": [],
   "source": [
    "win.title('윈도우 창')"
   ]
  },
  {
   "cell_type": "code",
   "execution_count": null,
   "id": "9bd93b5d",
   "metadata": {},
   "outputs": [],
   "source": [
    "win.geometry('300x200+100+100')"
   ]
  },
  {
   "cell_type": "code",
   "execution_count": null,
   "id": "c23ff323",
   "metadata": {},
   "outputs": [],
   "source": [
    "win.resizable(width=True , height= False)            # width와 height는 고정이라 없어도 되고 1,0이라 적어도 된다."
   ]
  },
  {
   "cell_type": "code",
   "execution_count": null,
   "id": "0804dcac",
   "metadata": {},
   "outputs": [],
   "source": [
    "label1=Label(win, text='Label 만들었음')"
   ]
  },
  {
   "cell_type": "code",
   "execution_count": null,
   "id": "7b246584",
   "metadata": {},
   "outputs": [],
   "source": [
    "label2=Label(win,text='폰트',font=('궁서체',20))"
   ]
  },
  {
   "cell_type": "code",
   "execution_count": null,
   "id": "761b7739",
   "metadata": {},
   "outputs": [],
   "source": [
    "label3=Label(win,text='색상',fg='light yellow',bg='#ff0000')"
   ]
  },
  {
   "cell_type": "code",
   "execution_count": null,
   "id": "99c62d6a",
   "metadata": {},
   "outputs": [],
   "source": [
    "button1=Button(win,text='b1',fg='light yellow',bg='#ff0000')"
   ]
  },
  {
   "cell_type": "code",
   "execution_count": null,
   "id": "24f21062",
   "metadata": {},
   "outputs": [],
   "source": [
    "button2=Button(win,text='b2',bd=5,padx=20)               # bd는 버튼 테두리의 두깨이고\n",
    "padx는 버튼 안쪾 좌우 여백이다."
   ]
  },
  {
   "cell_type": "code",
   "execution_count": null,
   "id": "bb91b81c",
   "metadata": {},
   "outputs": [],
   "source": [
    "button1.pack()"
   ]
  },
  {
   "cell_type": "code",
   "execution_count": null,
   "id": "3ecfb243",
   "metadata": {},
   "outputs": [],
   "source": [
    "button2.pack"
   ]
  },
  {
   "cell_type": "code",
   "execution_count": null,
   "id": "2f80344e",
   "metadata": {},
   "outputs": [],
   "source": [
    "label1.pack()"
   ]
  },
  {
   "cell_type": "code",
   "execution_count": null,
   "id": "ceb21398",
   "metadata": {},
   "outputs": [],
   "source": [
    "label2.pack()"
   ]
  },
  {
   "cell_type": "code",
   "execution_count": null,
   "id": "a7b0369a",
   "metadata": {},
   "outputs": [],
   "source": [
    "label3.pack()"
   ]
  },
  {
   "cell_type": "code",
   "execution_count": null,
   "id": "df4b78cf",
   "metadata": {},
   "outputs": [],
   "source": [
    "label1.config(text='바뀐 문자열')             #.config는 레이블 안의 문자를 변경하고 싶을때 사용"
   ]
  },
  {
   "cell_type": "code",
   "execution_count": null,
   "id": "2e2baac7",
   "metadata": {},
   "outputs": [],
   "source": [
    "win.mainloop()"
   ]
  },
  {
   "cell_type": "code",
   "execution_count": 2,
   "id": "98f2cdcf",
   "metadata": {},
   "outputs": [
    {
     "name": "stderr",
     "output_type": "stream",
     "text": [
      "Exception in Tkinter callback\n",
      "Traceback (most recent call last):\n",
      "  File \"C:\\ProgramData\\Anaconda3\\lib\\tkinter\\__init__.py\", line 1892, in __call__\n",
      "    return self.func(*args)\n",
      "  File \"C:\\Users\\Administrator\\AppData\\Local\\Temp\\ipykernel_22824\\1633158468.py\", line 8, in printValue\n",
      "    print('이름 = ' + entryName.get())\n",
      "AttributeError: 'NoneType' object has no attribute 'get'\n"
     ]
    }
   ],
   "source": [
    "from tkinter import *\n",
    "\n",
    "tk = Tk()\n",
    "tk.title('2017316032 이한문')\n",
    "tk.geometry('230x120')\n",
    "\n",
    "def printValue():\n",
    "    print('이름 = ' + entryName.get())\n",
    "    print('성 = ' + entryFamily.get())\n",
    "    print('전화번호 = ' + entryTel.get())\n",
    "    print('이메일 = ' + entryEmail.get())\n",
    "\n",
    "labelName = Label(tk, width=10, text='이름').grid(row=0, column=0)\n",
    "labelFamily = Label(tk, width=10, text='성').grid(row=1, column=0)\n",
    "labelTel = Label(tk, width=10, text='전화번호').grid(row=2, column=0)\n",
    "labelEmail = Label(tk, width=10, text='Email').grid(row=3, column=0)\n",
    "\n",
    "entryName = Entry(tk, width=20).grid(row=0, column=1)\n",
    "entryFamily = Entry(tk, width=20).grid(row=1, column=1)\n",
    "entryTel = Entry(tk, width=20).grid(row=2, column=1)\n",
    "entryEmail = Entry(tk, width=20).grid(row=3, column=1)\n",
    "\n",
    "button = Button(tk, width=18, text='Print info', command=printValue).grid(row=5, column=1)\n",
    "tk.mainloop()"
   ]
  },
  {
   "cell_type": "code",
   "execution_count": null,
   "id": "1b357d83",
   "metadata": {},
   "outputs": [],
   "source": [
    "from tkinter import *\n",
    "\n",
    "tk = Tk()\n",
    "tk.title('2017316032 이한문')\n",
    "tk.geometry('230x120')\n",
    "menuBar = Menu(tk)\n",
    "fileMenu = Menu(menuBar, tearoff=0)\n",
    "fileMenu.add_command(label='New File')\n",
    "fileMenu.add_command(label='Open')\n",
    "fileMenu.add_separator()\n",
    "fileMenu.add_command(label='Save')\n",
    "fileMenu.add_command(label='Save as...')\n",
    "menuBar.add_cascade(label='File', menu=fileMenu)\n",
    "\n",
    "aboutMenu = Menu(menuBar, tearoff=0)\n",
    "aboutMenu.add_command(label='About')\n",
    "menuBar.add_cascade(label='About', menu=aboutMenu)\n",
    "quitMenu = Menu(menuBar, tearoff=0)\n",
    "quitMenu.add_command(label='Quit')\n",
    "menuBar.add_cascade(label='Quit', menu=quitMenu)\n",
    "\n",
    "tk.config(menu=menuBar)\n",
    "\n",
    "tk.mainloop()"
   ]
  },
  {
   "cell_type": "code",
   "execution_count": null,
   "id": "c31c32ff",
   "metadata": {},
   "outputs": [],
   "source": []
  }
 ],
 "metadata": {
  "kernelspec": {
   "display_name": "Python 3 (ipykernel)",
   "language": "python",
   "name": "python3"
  },
  "language_info": {
   "codemirror_mode": {
    "name": "ipython",
    "version": 3
   },
   "file_extension": ".py",
   "mimetype": "text/x-python",
   "name": "python",
   "nbconvert_exporter": "python",
   "pygments_lexer": "ipython3",
   "version": "3.9.12"
  }
 },
 "nbformat": 4,
 "nbformat_minor": 5
}
