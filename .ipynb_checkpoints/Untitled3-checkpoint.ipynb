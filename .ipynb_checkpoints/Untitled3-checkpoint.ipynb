{
 "cells": [
  {
   "cell_type": "code",
   "execution_count": 59,
   "id": "88494df4",
   "metadata": {},
   "outputs": [
    {
     "name": "stdout",
     "output_type": "stream",
     "text": [
      "입력 자료 :12 21 13 19 16\n",
      "합: 81\n",
      "평균: 16.2\n",
      "표준편차:3.43\n"
     ]
    }
   ],
   "source": [
    "x=list(map(int,input('입력 자료 :').split()))\n",
    "aver=sum(x)/len(x)\n",
    "up=0              #(입력값-평균)의 제곱을 나타낼 값\n",
    "sum_up=0          \n",
    "k=0               #표준편차를 표현할 값\n",
    "for i in x:\n",
    "    up=(i-aver)**2\n",
    "    sum_up+=up\n",
    "    k=(sum_up/len(x))**(1/2)\n",
    "print('합:',sum(x))\n",
    "print('평균:',aver)\n",
    "print('표준편차:%.2f'%k)"
   ]
  },
  {
   "cell_type": "code",
   "execution_count": 61,
   "id": "7638710e",
   "metadata": {},
   "outputs": [
    {
     "name": "stdout",
     "output_type": "stream",
     "text": [
      "일일 매출 기록: (100, 121, 120, 130, 140, 120, 122, 123, 190, 125)\n",
      "지난 10일 동안 매출 평균은 129.1일입니다.\n",
      "지난 10일 동안 매출이 평균 이상인 날은 3일입니다.\n",
      "지난 10일 동안 전일대비 매출이 증가한 날은 6일입니다\n"
     ]
    }
   ],
   "source": [
    "sales=(100,121,120,130,140,120,122,123,190,125)\n",
    "count=0\n",
    "up=0\n",
    "n=0\n",
    "aver=sum(sales)/len(sales)\n",
    "\n",
    "\n",
    "print('일일 매출 기록:',sales)\n",
    "print('지난 10일 동안 매출 평균은 %.1f일입니다.'%aver)\n",
    "\n",
    "for k in sales:\n",
    "    if k>aver:\n",
    "        count+=1\n",
    "for n in range(10):\n",
    "        if sales[n]>sales[n-1]:\n",
    "            up+=1\n",
    "print('지난 10일 동안 매출이 평균 이상인 날은 %d일입니다.'% count)\n",
    "print('지난 10일 동안 전일대비 매출이 증가한 날은 %d일입니다'% up)\n"
   ]
  },
  {
   "cell_type": "code",
   "execution_count": null,
   "id": "4161f06e",
   "metadata": {},
   "outputs": [],
   "source": []
  }
 ],
 "metadata": {
  "kernelspec": {
   "display_name": "Python 3 (ipykernel)",
   "language": "python",
   "name": "python3"
  },
  "language_info": {
   "codemirror_mode": {
    "name": "ipython",
    "version": 3
   },
   "file_extension": ".py",
   "mimetype": "text/x-python",
   "name": "python",
   "nbconvert_exporter": "python",
   "pygments_lexer": "ipython3",
   "version": "3.9.12"
  }
 },
 "nbformat": 4,
 "nbformat_minor": 5
}
