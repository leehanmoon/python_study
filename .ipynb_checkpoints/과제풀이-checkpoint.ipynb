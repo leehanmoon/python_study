{
 "cells": [
  {
   "cell_type": "code",
   "execution_count": 108,
   "id": "9bc920df",
   "metadata": {},
   "outputs": [
    {
     "name": "stdout",
     "output_type": "stream",
     "text": [
      "s_list1= [0, 1, 2, 3, 4]\n",
      "s_list2= [5, 6, 7, 8, 9, 10]\n",
      "s_list3= [11, 12, 13, 14]\n",
      "s_list4= [2, 4, 5, 6, 8, 10]\n",
      "s_list5= [10, 9, 8, 7, 6]\n",
      "s_list6= [10, 8, 6, 4, 2]\n"
     ]
    }
   ],
   "source": [
    "n_list=[0,1,2,3,4,5,6,7,8,9,10,11,12,13,14]\n",
    "\n",
    "print('s_list1=',n_list[:5])\n",
    "print('s_list2=',n_list[5:11])\n",
    "print('s_list3=',n_list[11:15])\n",
    "s_list4=n_list[2:11:2]\n",
    "s_list4.append(5)\n",
    "s_list4.sort()\n",
    "print('s_list4=',s_list4)\n",
    "print('s_list5=',n_list[10:5:-1])\n",
    "print('s_list6=',n_list[10:1:-2])"
   ]
  },
  {
   "cell_type": "code",
   "execution_count": 113,
   "id": "7e976d5f",
   "metadata": {},
   "outputs": [
    {
     "name": "stdout",
     "output_type": "stream",
     "text": [
      "3 * 2 = 6\n",
      "3 * 3 = 9\n",
      "3 * 4 = 12\n",
      "3 * 5 = 15\n",
      "3 * 6 = 18\n",
      "5 * 2 = 10\n",
      "5 * 3 = 15\n",
      "5 * 4 = 20\n",
      "5 * 5 = 25\n",
      "5 * 6 = 30\n",
      "7 * 2 = 14\n",
      "7 * 3 = 21\n",
      "7 * 4 = 28\n",
      "7 * 5 = 35\n",
      "7 * 6 = 42\n"
     ]
    }
   ],
   "source": [
    "list1=[3,5,7]\n",
    "list2=[2,3,4,5,6]\n",
    "mul=0\n",
    "\n",
    "for k in list1:\n",
    "    for i in list2:\n",
    "        mul=k*i\n",
    "        print('%d * %d = %d'%(k,i,mul))"
   ]
  },
  {
   "cell_type": "code",
   "execution_count": 6,
   "id": "fc6999e2",
   "metadata": {},
   "outputs": [
    {
     "name": "stdout",
     "output_type": "stream",
     "text": [
      "5개의 수를 입력하시오45 67 20 34 15\n",
      "합: 181\n",
      "평균: 36.2\n",
      "최대값: 67\n",
      "최솟값: 15\n"
     ]
    }
   ],
   "source": [
    "num=list(map(int,input('5개의 수를 입력하시오').split()))\n",
    "print('합:',sum(num))\n",
    "print('평균:',sum(num)/len(num))\n",
    "print('최대값:',max(num))\n",
    "print('최솟값:',min(num))\n"
   ]
  },
  {
   "cell_type": "code",
   "execution_count": 15,
   "id": "600b1f86",
   "metadata": {},
   "outputs": [
    {
     "name": "stdout",
     "output_type": "stream",
     "text": [
      "주사위 눈이 1 인 횟수 157\n",
      "주사위 눈이 2 인 횟수 157\n",
      "주사위 눈이 3 인 횟수 146\n",
      "주사위 눈이 4 인 횟수 195\n",
      "주사위 눈이 5 인 횟수 163\n",
      "주사위 눈이 6 인 횟수 182\n"
     ]
    }
   ],
   "source": [
    "import random \n",
    "dice=[0]*6\n",
    "\n",
    "for k in range(1000):\n",
    "    value=random.randint(0,5)\n",
    "    dice[value]=dice[value]+1\n",
    "for k in range(0,6):\n",
    "    print('주사위 눈이',k+1,'인 횟수',dice[k])"
   ]
  },
  {
   "cell_type": "code",
   "execution_count": 27,
   "id": "96c80bb1",
   "metadata": {},
   "outputs": [
    {
     "name": "stdout",
     "output_type": "stream",
     "text": [
      " 3  4  5\n",
      " 4  3  5\n",
      " 5  12  13\n",
      " 6  8  10\n",
      " 7  24  25\n",
      " 8  6  10\n",
      " 8  15  17\n",
      " 9  12  15\n",
      " 10  24  26\n",
      " 12  5  13\n",
      " 12  9  15\n",
      " 12  16  20\n",
      " 15  8  17\n",
      " 15  20  25\n",
      " 16  12  20\n",
      " 20  15  25\n",
      " 20  21  29\n",
      " 21  20  29\n",
      " 24  7  25\n",
      " 24  10  26\n"
     ]
    }
   ],
   "source": [
    "new_list = []\n",
    "for x in range(1, 30):\n",
    "    for y in range(1, 30):\n",
    "        for z in range(1, 30):\n",
    "            if x**2 + y**2 == z**2:\n",
    "                new_list.append((x,y,z))\n",
    "                print('(',x,y,z,')')"
   ]
  },
  {
   "cell_type": "code",
   "execution_count": 32,
   "id": "7124775f",
   "metadata": {},
   "outputs": [
    {
     "name": "stdout",
     "output_type": "stream",
     "text": [
      "교환할 돈은 얼마?120000\n",
      "\n",
      "50000원\t 2장\n",
      "10000원\t 2장\n",
      "5000원\t 0장\n",
      "1000원\t 0장\n",
      "500원\t 0개\n",
      "100원\t 0개\n",
      "50원\t 0개\n",
      "10원\t 0개\n"
     ]
    }
   ],
   "source": [
    "money = int(input(\"교환할 돈은 얼마?\")) \n",
    "c50000 = money //50000\n",
    "money %= 50000 \n",
    "## 500000원으로 나눈다\n",
    "c10000 = money //10000\n",
    "money %= 10000 \n",
    "## 10000원으로 나눈다\n",
    "c5000 = money //5000\n",
    "money %= 5000 \n",
    "## 50000원으로 나눈다\n",
    "c1000 = money //1000\n",
    "money %= 1000 \n",
    "## 1000원으로 나눈다\n",
    "c500 = money //500\n",
    "money %= 500 \n",
    "## 500원으로 나눈다\n",
    "c100 = money //100\n",
    "money %= 100 \n",
    "## 100원으로 나눈다\n",
    "c50 = money //50\n",
    "money %= 50 \n",
    "## 50원으로 나눈다\n",
    "c10 = money //10\n",
    "money %= 10 \n",
    "## 10원으로 나눈다\n",
    "print('\\n50000원\\t %d장'%c50000)\n",
    "print('10000원\\t %d장'%c10000)\n",
    "print('5000원\\t %d장'%c5000)\n",
    "print('1000원\\t %d장'%c1000)\n",
    "print('500원\\t %d개'%c500)\n",
    "print('100원\\t %d개'%c100)\n",
    "print('50원\\t %d개'%c50)\n",
    "print('10원\\t %d개'%c10)"
   ]
  },
  {
   "cell_type": "code",
   "execution_count": 34,
   "id": "b0a290cf",
   "metadata": {},
   "outputs": [
    {
     "ename": "AttributeError",
     "evalue": "module 'random' has no attribute 'range'",
     "output_type": "error",
     "traceback": [
      "\u001b[1;31m---------------------------------------------------------------------------\u001b[0m",
      "\u001b[1;31mAttributeError\u001b[0m                            Traceback (most recent call last)",
      "Input \u001b[1;32mIn [34]\u001b[0m, in \u001b[0;36m<cell line: 4>\u001b[1;34m()\u001b[0m\n\u001b[0;32m      2\u001b[0m dice\u001b[38;5;241m=\u001b[39m[\u001b[38;5;241m0\u001b[39m]\u001b[38;5;241m*\u001b[39m\u001b[38;5;241m6\u001b[39m\n\u001b[0;32m      4\u001b[0m \u001b[38;5;28;01mfor\u001b[39;00m i \u001b[38;5;129;01min\u001b[39;00m \u001b[38;5;28mrange\u001b[39m(\u001b[38;5;241m1000\u001b[39m):\n\u001b[1;32m----> 5\u001b[0m     value\u001b[38;5;241m=\u001b[39m\u001b[43mrandom\u001b[49m\u001b[38;5;241;43m.\u001b[39;49m\u001b[43mrange\u001b[49m(\u001b[38;5;241m1\u001b[39m,\u001b[38;5;241m7\u001b[39m)\n\u001b[0;32m      6\u001b[0m     dice[value]\u001b[38;5;241m+\u001b[39m\u001b[38;5;241m=\u001b[39m\u001b[38;5;241m1\u001b[39m\n\u001b[0;32m      7\u001b[0m \u001b[38;5;28;01mfor\u001b[39;00m i \u001b[38;5;129;01min\u001b[39;00m \u001b[38;5;28mrange\u001b[39m(\u001b[38;5;241m6\u001b[39m):\n",
      "\u001b[1;31mAttributeError\u001b[0m: module 'random' has no attribute 'range'"
     ]
    }
   ],
   "source": [
    "import random \n",
    "dice=[0]*6\n",
    "\n",
    "for i in range(1000):\n",
    "    value=random.range(1,7)\n",
    "    dice[value]+=1\n",
    "for i in range(6):\n",
    "    print('주사위 %d은 %d번나옴'%(i+1,dice[i]))"
   ]
  },
  {
   "cell_type": "code",
   "execution_count": 51,
   "id": "c34aeea0",
   "metadata": {},
   "outputs": [
    {
     "name": "stdout",
     "output_type": "stream",
     "text": [
      "쉼표구분으로 오름차순 정리:8,5,4,7\n",
      "[4, 5, 7, 8]\n"
     ]
    },
    {
     "ename": "TypeError",
     "evalue": "'str' object is not callable",
     "output_type": "error",
     "traceback": [
      "\u001b[1;31m---------------------------------------------------------------------------\u001b[0m",
      "\u001b[1;31mTypeError\u001b[0m                                 Traceback (most recent call last)",
      "Input \u001b[1;32mIn [51]\u001b[0m, in \u001b[0;36m<cell line: 4>\u001b[1;34m()\u001b[0m\n\u001b[0;32m      2\u001b[0m num\u001b[38;5;241m.\u001b[39msort()\n\u001b[0;32m      3\u001b[0m \u001b[38;5;28mprint\u001b[39m(num)\n\u001b[1;32m----> 4\u001b[0m list_str\u001b[38;5;241m=\u001b[39m\u001b[38;5;28;43mstr\u001b[39;49m\u001b[43m(\u001b[49m\u001b[43mnum\u001b[49m\u001b[43m)\u001b[49m[\u001b[38;5;241m1\u001b[39m:\u001b[38;5;241m-\u001b[39m\u001b[38;5;241m1\u001b[39m]\n\u001b[0;32m      5\u001b[0m \u001b[38;5;28mprint\u001b[39m(list_str)\n",
      "\u001b[1;31mTypeError\u001b[0m: 'str' object is not callable"
     ]
    }
   ],
   "source": [
    "num=list(map(int,input('쉼표구분으로 오름차순 정리:').split(',')))\n",
    "num.sort()\n",
    "print(num)\n",
    "list_str=str(num)[1:-1]\n",
    "print(list_str)"
   ]
  },
  {
   "cell_type": "code",
   "execution_count": null,
   "id": "ec5a2213",
   "metadata": {},
   "outputs": [],
   "source": []
  }
 ],
 "metadata": {
  "kernelspec": {
   "display_name": "Python 3 (ipykernel)",
   "language": "python",
   "name": "python3"
  },
  "language_info": {
   "codemirror_mode": {
    "name": "ipython",
    "version": 3
   },
   "file_extension": ".py",
   "mimetype": "text/x-python",
   "name": "python",
   "nbconvert_exporter": "python",
   "pygments_lexer": "ipython3",
   "version": "3.9.12"
  }
 },
 "nbformat": 4,
 "nbformat_minor": 5
}
