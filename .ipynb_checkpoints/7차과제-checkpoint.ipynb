{
 "cells": [
  {
   "cell_type": "code",
   "execution_count": null,
   "id": "fb62fb3a",
   "metadata": {},
   "outputs": [],
   "source": [
    "#1번\n",
    "\n",
    "from tkinter import *\n",
    "\n",
    "tk = Tk()\n",
    "tk.title('2017316032 이한문')\n",
    "tk.geometry('230x120')\n",
    "\n",
    "def printValue():\n",
    "    print('이름 = ' + entryName.get())\n",
    "    print('성 = ' + entryFamily.get())\n",
    "    print('전화번호 = ' + entryTel.get())\n",
    "    print('이메일 = ' + entryEmail.get())\n",
    "\n",
    "labelName = Label(tk, width=10, text='이름')\n",
    "labelName.grid(row=0, column=0)\n",
    "labelFamily = Label(tk, width=10, text='성')\n",
    "labelFamily.grid(row=1, column=0)\n",
    "labelTel = Label(tk, width=10, text='전화번호')\n",
    "labelTel.grid(row=2, column=0)\n",
    "labelEmail = Label(tk, width=10, text='Email')\n",
    "labelEmail.grid(row=3, column=0)\n",
    "\n",
    "entryName = Entry(tk, width=20)\n",
    "entryName.grid(row=0, column=1)\n",
    "entryFamily = Entry(tk, width=20)\n",
    "entryFamily.grid(row=1, column=1)\n",
    "entryTel = Entry(tk, width=20)\n",
    "entryTel.grid(row=2, column=1)\n",
    "entryEmail = Entry(tk, width=20)\n",
    "entryEmail.grid(row=3, column=1)\n",
    "\n",
    "button = Button(tk, width=18, text='Print info', command=printValue)\n",
    "button.grid(row=5, column=1)\n",
    "tk.mainloop()"
   ]
  },
  {
   "cell_type": "code",
   "execution_count": 4,
   "id": "c7ad3f4d",
   "metadata": {},
   "outputs": [
    {
     "name": "stdout",
     "output_type": "stream",
     "text": [
      "교 이공대학\n",
      "이공대학 이한문\n",
      "서경대학교 이공대학\n"
     ]
    }
   ],
   "source": [
    "#2번\n",
    "from tkinter import *\n",
    "\n",
    "tk = Tk()\n",
    "tk.title('2017316032 이한문')\n",
    "tk.geometry('400x200')\n",
    "\n",
    "def deleteText():\n",
    "    text.delete(\"1.0\", \"end\")\n",
    "\n",
    "def insertText():\n",
    "    # text.configure(state='normal')\n",
    "    # text.focus()\n",
    "    text.insert(INSERT, \"서경대학교 이공대학 이한문\")\n",
    "\n",
    "\n",
    "def printText():\n",
    "    ranges = text.tag_ranges(SEL)\n",
    "    print(text.get(*ranges))\n",
    "\n",
    "text = Text(tk, width=53, height=10)\n",
    "text.place(x=10, y=5)\n",
    "# text.configure(state='disabled')\n",
    "\n",
    "deleteButton = Button(tk, width=7, text='글 삭제', command=deleteText)\n",
    "deleteButton.place(x=30, y=160)\n",
    "\n",
    "insertButton = Button(tk, width=5, text='삽입', command=insertText)\n",
    "insertButton.place(x=160, y=160)\n",
    "\n",
    "printButton = Button(tk, width=12, text='선택영역 출력', command=printText)\n",
    "printButton.place(x=280, y=160)\n",
    "\n",
    "tk.mainloop()"
   ]
  },
  {
   "cell_type": "code",
   "execution_count": null,
   "id": "c042ab51",
   "metadata": {},
   "outputs": [],
   "source": [
    "#3번\n",
    "\n",
    "from tkinter import *\n",
    "\n",
    "tk = Tk()\n",
    "tk.title('2017316032 이한문')\n",
    "tk.geometry('230x120')\n",
    "menuBar = Menu(tk)\n",
    "fileMenu = Menu(menuBar, tearoff=0)\n",
    "fileMenu.add_command(label='New File')\n",
    "fileMenu.add_command(label='Open')\n",
    "fileMenu.add_separator()\n",
    "fileMenu.add_command(label='Save')\n",
    "fileMenu.add_command(label='Save as...')\n",
    "menuBar.add_cascade(label='File', menu=fileMenu)\n",
    "\n",
    "aboutMenu = Menu(menuBar, tearoff=0)\n",
    "aboutMenu.add_command(label='About')\n",
    "menuBar.add_cascade(label='About', menu=aboutMenu)\n",
    "quitMenu = Menu(menuBar, tearoff=0)\n",
    "quitMenu.add_command(label='Quit')\n",
    "menuBar.add_cascade(label='Quit', menu=quitMenu)\n",
    "\n",
    "tk.config(menu=menuBar)\n",
    "\n",
    "tk.mainloop()"
   ]
  },
  {
   "cell_type": "code",
   "execution_count": null,
   "id": "74f24656",
   "metadata": {},
   "outputs": [],
   "source": []
  }
 ],
 "metadata": {
  "kernelspec": {
   "display_name": "Python 3 (ipykernel)",
   "language": "python",
   "name": "python3"
  },
  "language_info": {
   "codemirror_mode": {
    "name": "ipython",
    "version": 3
   },
   "file_extension": ".py",
   "mimetype": "text/x-python",
   "name": "python",
   "nbconvert_exporter": "python",
   "pygments_lexer": "ipython3",
   "version": "3.9.12"
  }
 },
 "nbformat": 4,
 "nbformat_minor": 5
}
