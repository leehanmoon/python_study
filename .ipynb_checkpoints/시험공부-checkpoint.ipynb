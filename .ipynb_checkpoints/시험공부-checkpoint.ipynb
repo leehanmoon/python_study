{
 "cells": [
  {
   "cell_type": "code",
   "execution_count": 1,
   "id": "8380edaf",
   "metadata": {},
   "outputs": [
    {
     "name": "stdout",
     "output_type": "stream",
     "text": [
      "시간당 10000원,7.50시간 일함\n"
     ]
    }
   ],
   "source": [
    "pay=10000\n",
    "hour=7.5\n",
    "\n",
    "print('시간당 %d원,%.2f시간 일함'%(pay,hour))"
   ]
  },
  {
   "cell_type": "code",
   "execution_count": 2,
   "id": "909ca359",
   "metadata": {},
   "outputs": [
    {
     "name": "stdout",
     "output_type": "stream",
     "text": [
      "\t안녕\n"
     ]
    }
   ],
   "source": [
    "print('\\t안녕')"
   ]
  },
  {
   "cell_type": "code",
   "execution_count": null,
   "id": "12b43003",
   "metadata": {},
   "outputs": [],
   "source": [
    "price=int(input('기계값 입력: '))\n",
    "used=int(input('사용 개월 수: '))\n",
    "\n",
    "mpay=price/24\n",
    "left=24-used\n",
    "\n",
    "print('매달 내는 돈=%.1f원'% mpay)\n",
    "print('남은 약정기간 = %d개월'% left)\n",
    "print('위약금= %.2f원'% (mpay*left))"
   ]
  },
  {
   "cell_type": "code",
   "execution_count": null,
   "id": "7935f684",
   "metadata": {},
   "outputs": [],
   "source": [
    "used=int(input('사용한 데이터를 입력하시오: '))\n",
    "price=42000\n",
    "pay=(used-5)*3800+price\n",
    "if used<=5:\n",
    "    pay=price\n",
    "print('총 지불할 금액: %d'% pay)\n",
    "\n",
    "if pay>76000:\n",
    "    print('무제한 요금제를 사용하세요!')\n",
    "elif pay==76000:\n",
    "    print('그냥 마음 편하게 무제한을 사용하시느건 어때요?')\n",
    "else:\n",
    "    print('현재 요금제를 사용하세요')\n"
   ]
  },
  {
   "cell_type": "code",
   "execution_count": null,
   "id": "6fe93aaa",
   "metadata": {},
   "outputs": [],
   "source": [
    "5%3\n",
    "5//3"
   ]
  },
  {
   "cell_type": "code",
   "execution_count": null,
   "id": "8952c6a5",
   "metadata": {},
   "outputs": [],
   "source": [
    "\n",
    "people=int(input('MT인원수를 입력하시오: '))\n",
    "amount=int(input('개인당 생수의 갯수를 입력하시오: '))\n",
    "\n",
    "pack=(people*amount)//15\n",
    "bottle=(people*amount)%15\n",
    "total_pay=pack*10000+bottle*900\n",
    "print('생수 묶음 수:%d묶음'% pack)\n",
    "print('생수 낱개 수:%d개'% bottle)\n",
    "print('총 구매 비용:%d'% total_pay)"
   ]
  },
  {
   "cell_type": "code",
   "execution_count": null,
   "id": "3c7acc3a",
   "metadata": {},
   "outputs": [],
   "source": [
    "bul=int(input('불고기 피자 조각수:'))\n",
    "pine=int(input('파인애플 피자 조각수:'))\n",
    "\n",
    "if bul %2==1 or pine %2==1:\n",
    "    print('조각 가능:False')\n",
    "else:\n",
    "    print('조각 가능:True')"
   ]
  },
  {
   "cell_type": "code",
   "execution_count": null,
   "id": "973e6a47",
   "metadata": {},
   "outputs": [],
   "source": [
    "tof=bool(int(input('1은 참, 0은 거짓: ')))\n",
    "print(tof)"
   ]
  },
  {
   "cell_type": "code",
   "execution_count": null,
   "id": "3ea372f6",
   "metadata": {},
   "outputs": [],
   "source": [
    "num=int(input('숫자 입력: '))\n",
    "num=num+int(num%2==1)\n",
    "print('가장 가까운 숫자=',num)"
   ]
  },
  {
   "cell_type": "code",
   "execution_count": null,
   "id": "47392903",
   "metadata": {},
   "outputs": [],
   "source": [
    "per=int(input('인원수: '))\n",
    "order=per//4\n",
    "order=order+int(per%4!=0)\n",
    "pay=order*12000\n",
    "\n",
    "print('주문 피자 개수 %d판'% (order*2))\n",
    "print('총 피자 가격 %d원'%pay)"
   ]
  },
  {
   "cell_type": "code",
   "execution_count": null,
   "id": "b76c89b9",
   "metadata": {},
   "outputs": [],
   "source": [
    "import random\n",
    "\n",
    "rnum=random.randrange(0,3)\n",
    "print('첫번째수=',rnum)\n",
    "rnum=random.randrange(0,3)\n",
    "print('두번째수=',rnum)"
   ]
  },
  {
   "cell_type": "code",
   "execution_count": null,
   "id": "8bc85da7",
   "metadata": {},
   "outputs": [],
   "source": [
    "rain=bool(int(input('비가 오면 1, 비가 안오면 0 입력: ')))\n",
    "\n",
    "if rain:\n",
    "    print('우산 챙김')\n",
    "else:\n",
    "    print('그냥 나가기')\n",
    "print('소개팅 화이팅')"
   ]
  },
  {
   "cell_type": "code",
   "execution_count": null,
   "id": "8530de2c",
   "metadata": {},
   "outputs": [],
   "source": [
    "rain=bool(int(input('비가 오면 1, 비가 안오면 0 입력: ')))\n",
    "\n",
    "if rain:print('우산 챙김')\n",
    "print('소개팅 화이팅')"
   ]
  },
  {
   "cell_type": "code",
   "execution_count": null,
   "id": "b4b1a8b0",
   "metadata": {},
   "outputs": [],
   "source": [
    "birth=bool(int(input('이번달 생일? 1은 yes, 0은 no: ')))\n",
    "age=int(input('나이를 입력하시오: '))\n",
    "\n",
    "if age>=19 and birth==True:\n",
    "    print('\\n당첨! 모이또 한 잔 ')\n",
    "else:print('까비ㅠㅠ 탄산이라도 드릴까요?')"
   ]
  },
  {
   "cell_type": "code",
   "execution_count": null,
   "id": "2195747b",
   "metadata": {},
   "outputs": [],
   "source": [
    "import random\n",
    "\n",
    "com=random.randrange(0,2)\n",
    "user=int(input('홀 0,짝 1 입력: '))\n",
    "chips=0\n",
    "\n",
    "if com==user:\n",
    "    chips+=10\n",
    "    print('맞았음')\n",
    "else:\n",
    "    chips-=10\n",
    "    print('틀렸음')\n",
    "print('칩=',chips)"
   ]
  },
  {
   "cell_type": "code",
   "execution_count": null,
   "id": "050c31ce",
   "metadata": {},
   "outputs": [],
   "source": [
    "coupon=int(input('쿠폰 개수 입력: '))\n",
    "\n",
    "if coupon>=20:\n",
    "    print('여행가방')\n",
    "elif coupon>=10:\n",
    "    print('다이어리')\n",
    "elif coupon<10:\n",
    "    print('커피한잔')"
   ]
  },
  {
   "cell_type": "code",
   "execution_count": null,
   "id": "e5069fd8",
   "metadata": {},
   "outputs": [],
   "source": [
    "tic=int(input('1~3번 중 어떤 티켓: '))\n",
    "im\n",
    "if tic==1:\n",
    "    print('돌고래쇼')\n",
    "    print('놀이기구 10종')\n",
    "elif tic==2:\n",
    "    print('놀이기구 10종')\n",
    "print('입장권')"
   ]
  },
  {
   "cell_type": "code",
   "execution_count": null,
   "id": "289c1d83",
   "metadata": {},
   "outputs": [],
   "source": [
    "import random\n",
    "\n",
    "trip=random.randint(0,3)\n",
    "if trip==0:\n",
    "    print('제주도')\n",
    "elif trip==1:\n",
    "    print('사이판')\n",
    "else:\n",
    "    print('하와이')"
   ]
  },
  {
   "cell_type": "code",
   "execution_count": null,
   "id": "ef7011e8",
   "metadata": {},
   "outputs": [],
   "source": [
    "import random\n",
    "user=int(input('가위0,바위1,보2: '))\n",
    "com=random.randint(0,2)\n",
    "print('user=%d, com=%d'% (user,com))\n",
    "if user==com:\n",
    "    print('비겼습니다')\n",
    "elif user-com==-1 or user-com==2:\n",
    "    print('졌습니다')\n",
    "else:\n",
    "    print('이겼습니다')"
   ]
  },
  {
   "cell_type": "code",
   "execution_count": null,
   "id": "c8365f19",
   "metadata": {},
   "outputs": [],
   "source": [
    "hour=int(input('근무한 시간: '))\n",
    "e_pay=(hour//4)\n",
    "pay=12800\n",
    "sum=pay*hour+e_pay*9000\n",
    "if hour>=40:\n",
    "    sum=pay*hour+e_pay*10000\n",
    "    sum+=sum*0.1\n",
    "    print('급여:%d'% sum)\n",
    "else:\n",
    "    sum=sum*1.02\n",
    "    print('급여:%d'% sum)\n",
    "    \n"
   ]
  },
  {
   "cell_type": "code",
   "execution_count": null,
   "id": "792a8e00",
   "metadata": {},
   "outputs": [],
   "source": [
    "import os\n",
    "import time\n",
    "order=3\n",
    "\n",
    "while order>0:\n",
    "    print('%d 통닭을 튀긴다'% order)\n",
    "    order=order-1\n",
    "    time.sleep(1)\n",
    "print('다튀겼닭')"
   ]
  },
  {
   "cell_type": "code",
   "execution_count": null,
   "id": "da3d1d89",
   "metadata": {},
   "outputs": [],
   "source": [
    "for k in range(1,61):\n",
    "    print('%d 통닭을 튀긴다'%k)\n",
    "print('기름 바꾼다')"
   ]
  },
  {
   "cell_type": "code",
   "execution_count": null,
   "id": "244de4b7",
   "metadata": {},
   "outputs": [],
   "source": [
    "for k in range(2,31,2):\n",
    "    print('',k,end='')\n",
    "sum=0\n",
    "for k in range(2,31,2):\n",
    "    sum+=k\n",
    "print()\n",
    "print(sum)"
   ]
  },
  {
   "cell_type": "code",
   "execution_count": null,
   "id": "54ced65c",
   "metadata": {},
   "outputs": [],
   "source": [
    "mul=1\n",
    "for k in range(9,0,-2):\n",
    "    print('%d '% k,end='')\n",
    "    mul*=k\n",
    "print('\\nmul=',mul)"
   ]
  },
  {
   "cell_type": "code",
   "execution_count": null,
   "id": "51f774a1",
   "metadata": {},
   "outputs": [],
   "source": [
    "import random\n",
    "\n",
    "userwin,comwin=0,0\n",
    "for k in range(3):\n",
    "    com=random.randint(0,2)\n",
    "    user=int(input('홀 0, 짝 1 입력: '))\n",
    "    if user==com:\n",
    "        print('사용자 승')\n",
    "        userwin+=1\n",
    "    else:\n",
    "        print('컴퓨터 승')\n",
    "        comwin+=1\n",
    "print('userwin=%d, comwin=%d'% (userwin,comwin))\n",
    "    "
   ]
  },
  {
   "cell_type": "code",
   "execution_count": null,
   "id": "87866319",
   "metadata": {},
   "outputs": [],
   "source": [
    "for k in range(2,10):\n",
    "    if k==5:\n",
    "        continue\n",
    "    for i in range(2,10):\n",
    "        print('%d=%d*%d'% (k*i,k,i))"
   ]
  },
  {
   "cell_type": "code",
   "execution_count": null,
   "id": "510ccc8d",
   "metadata": {},
   "outputs": [],
   "source": [
    "import time\n",
    "\n",
    "min=int(input('분을 입력하세요:'))\n",
    "sec=int(input('초를 입력하세요:'))\n",
    "\n",
    "for m in range(min,-1,-1):\n",
    "    for s in range(sec,-1,-1):\n",
    "        print('%d분:%d초'%(m,s))\n",
    "    sec=59\n",
    "print('멈,,,ㅁㅁ츄ㅗ!!!')"
   ]
  },
  {
   "cell_type": "code",
   "execution_count": null,
   "id": "6b523e9d",
   "metadata": {},
   "outputs": [],
   "source": [
    "import random\n",
    "com=random.randint(1,21)\n",
    "user=0\n",
    "\n",
    "while user!=com :\n",
    "    user=int(input('숫자를 입력하라: '))\n",
    "    if user>com:\n",
    "        print('더 작은 수 입니다')\n",
    "    elif user==com:\n",
    "        print('같은 수 입니다')\n",
    "        break\n",
    "    else:\n",
    "        print('더 큰 수 입니다')\n",
    "        "
   ]
  },
  {
   "cell_type": "code",
   "execution_count": null,
   "id": "3a834a7c",
   "metadata": {},
   "outputs": [],
   "source": [
    "n = int(input())\n",
    "\n",
    "for i in range(1, n+1):\n",
    "    for j in range(1, i+1):\n",
    "        print(j, end=' ')\n",
    "    print()"
   ]
  },
  {
   "cell_type": "code",
   "execution_count": null,
   "id": "5aed907c",
   "metadata": {},
   "outputs": [],
   "source": [
    "import random\n",
    "\n",
    "chips=int(input('칩:'))\n",
    "\n",
    "while chips>0:\n",
    "    user=random.randint(1,10)\n",
    "    com=random.randint(1,10)\n",
    "    bet=int(input('배팅:'))\n",
    "    print('user=%d com=%d'% (user,com))\n",
    "    if chips<bet:\n",
    "        continue\n",
    "    if user>com:\n",
    "        chips+=bet\n",
    "    elif user<com:\n",
    "        chips-=bet\n",
    "    \n",
    "    print('chips=',chips)\n",
    "        "
   ]
  },
  {
   "cell_type": "code",
   "execution_count": null,
   "id": "4a33b096",
   "metadata": {},
   "outputs": [],
   "source": [
    "import time\n",
    "\n",
    "min=int(input('d'))\n",
    "sec=int(input('s'))\n",
    "\n",
    "limit=min*60+sec\n",
    "for m in range(limit,-1,-1):\n",
    "    print('%d분,%d초'%(min,sec))\n",
    "    sec=sec-1\n",
    "    if sec<0:\n",
    "        min=min-1\n",
    "        sec=59\n",
    "print('stop')"
   ]
  },
  {
   "cell_type": "code",
   "execution_count": null,
   "id": "bfb30e5d",
   "metadata": {},
   "outputs": [],
   "source": [
    "for dan in range(2,10):\n",
    "    print('%d단:'%dan,end='\\t')\n",
    "print()\n",
    "for num in range(1,10):\n",
    "    for dan in range(2,10):\n",
    "        print('%dx%d=%d '%(dan,num,dan*num),end='\\t')\n",
    "    print()"
   ]
  },
  {
   "cell_type": "code",
   "execution_count": null,
   "id": "60f736b4",
   "metadata": {},
   "outputs": [],
   "source": [
    "alphabet = input(\"알파벳을 입력하세요: \")\n",
    "\n",
    "if alphabet.lower() in ['a', 'e','i','o','u']:\n",
    "    print(\"모음\")\n",
    "else:\n",
    "    print('자음')\n",
    "    "
   ]
  },
  {
   "cell_type": "code",
   "execution_count": null,
   "id": "3124c1cd",
   "metadata": {},
   "outputs": [],
   "source": [
    "name = \"Seokyeong University\"\n",
    "student = [\"Hong\", \"Gil\", \"Dong\"]\n",
    "split_name = name.split()\n",
    "join_student = ''.join(student)\n",
    "print(join_student[-4:] + split_name[1])"
   ]
  },
  {
   "cell_type": "code",
   "execution_count": 3,
   "id": "439ca435",
   "metadata": {},
   "outputs": [
    {
     "name": "stdout",
     "output_type": "stream",
     "text": [
      "x 입력: 10\n",
      "y 입력: 16\n",
      "두수의 합: 26\n",
      "두수의 곱: 160\n",
      "두수의 차: -6\n",
      "두수의 평균:  13.0\n",
      "큰수:  16\n",
      "작은수:  10\n"
     ]
    }
   ],
   "source": [
    "x=int(input('x 입력: '))\n",
    "y=int(input('y 입력: '))\n",
    "print('두수의 합:',(x+y))\n",
    "print('두수의 곱:',(x*y))\n",
    "print('두수의 차:',(x-y))\n",
    "print('두수의 평균: ',(x+y)/2)\n",
    "print('큰수: ',max(x,y))\n",
    "print('작은수: ',min(x,y))"
   ]
  },
  {
   "cell_type": "code",
   "execution_count": null,
   "id": "2ee4c3b0",
   "metadata": {},
   "outputs": [],
   "source": []
  }
 ],
 "metadata": {
  "kernelspec": {
   "display_name": "Python 3 (ipykernel)",
   "language": "python",
   "name": "python3"
  },
  "language_info": {
   "codemirror_mode": {
    "name": "ipython",
    "version": 3
   },
   "file_extension": ".py",
   "mimetype": "text/x-python",
   "name": "python",
   "nbconvert_exporter": "python",
   "pygments_lexer": "ipython3",
   "version": "3.9.12"
  }
 },
 "nbformat": 4,
 "nbformat_minor": 5
}
