{
 "cells": [
  {
   "cell_type": "code",
   "execution_count": 15,
   "id": "3645a1e1",
   "metadata": {},
   "outputs": [
    {
     "name": "stdout",
     "output_type": "stream",
     "text": [
      "1 Mile = 1.61 Km\n",
      "2 Mile = 3.22 Km\n",
      "3 Mile = 4.83 Km\n",
      "4 Mile = 6.44 Km\n",
      "5 Mile = 8.05 Km\n"
     ]
    }
   ],
   "source": [
    "#1번문제    \n",
    "for k in range(1,6):\n",
    "    def mile2km(k):\n",
    "        mile2km=k*1.61\n",
    "    print(k,'Mile','=',k*1.61,'Km')"
   ]
  },
  {
   "cell_type": "code",
   "execution_count": 18,
   "id": "347bea9c",
   "metadata": {},
   "outputs": [
    {
     "name": "stdout",
     "output_type": "stream",
     "text": [
      "매개변수입력하시오1\n",
      "입력하시오1\n",
      "입력하시오1\n"
     ]
    }
   ],
   "source": [
    "def area(k,a,b):\n",
    "    if k==0:\n",
    "        print('너비 %d,높이 %d인 직사각형의 면적 출력' % (a,b))\n",
    "    if k==1:\n",
    "        print('반지름 %d인 원의 면적 출력'% a)\n",
    "k=int(input('매개변수입력하시오'))\n",
    "a=int(input('입력하시오'))\n",
    "b=int(input('입력하시오'))"
   ]
  },
  {
   "cell_type": "code",
   "execution_count": null,
   "id": "4dc38ccb",
   "metadata": {},
   "outputs": [],
   "source": []
  }
 ],
 "metadata": {
  "kernelspec": {
   "display_name": "Python 3 (ipykernel)",
   "language": "python",
   "name": "python3"
  },
  "language_info": {
   "codemirror_mode": {
    "name": "ipython",
    "version": 3
   },
   "file_extension": ".py",
   "mimetype": "text/x-python",
   "name": "python",
   "nbconvert_exporter": "python",
   "pygments_lexer": "ipython3",
   "version": "3.9.12"
  }
 },
 "nbformat": 4,
 "nbformat_minor": 5
}
