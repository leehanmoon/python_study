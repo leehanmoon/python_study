{
 "cells": [
  {
   "cell_type": "code",
   "execution_count": 12,
   "id": "07529b31",
   "metadata": {},
   "outputs": [],
   "source": [
    "pay=100\n",
    "hour=18.5\n"
   ]
  },
  {
   "cell_type": "code",
   "execution_count": null,
   "id": "d9bb3d1b",
   "metadata": {},
   "outputs": [],
   "source": []
  },
  {
   "cell_type": "code",
   "execution_count": 13,
   "id": "2962dc25",
   "metadata": {},
   "outputs": [],
   "source": [
    "total=pay*hour"
   ]
  },
  {
   "cell_type": "code",
   "execution_count": 14,
   "id": "d661682f",
   "metadata": {},
   "outputs": [
    {
     "name": "stdout",
     "output_type": "stream",
     "text": [
      "1850.0\n"
     ]
    }
   ],
   "source": [
    "print(total)"
   ]
  },
  {
   "cell_type": "code",
   "execution_count": null,
   "id": "c590a658",
   "metadata": {},
   "outputs": [],
   "source": []
  },
  {
   "cell_type": "code",
   "execution_count": 15,
   "id": "d66114bb",
   "metadata": {},
   "outputs": [],
   "source": [
    "pay1=pay"
   ]
  },
  {
   "cell_type": "code",
   "execution_count": 16,
   "id": "282887ce",
   "metadata": {},
   "outputs": [],
   "source": [
    "tax=0.03"
   ]
  },
  {
   "cell_type": "code",
   "execution_count": 17,
   "id": "bcc919d0",
   "metadata": {},
   "outputs": [
    {
     "data": {
      "text/plain": [
       "1746724017616"
      ]
     },
     "execution_count": 17,
     "metadata": {},
     "output_type": "execute_result"
    }
   ],
   "source": [
    "id(pay)"
   ]
  },
  {
   "cell_type": "code",
   "execution_count": 18,
   "id": "dc9346ea",
   "metadata": {},
   "outputs": [
    {
     "data": {
      "text/plain": [
       "1746724017616"
      ]
     },
     "execution_count": 18,
     "metadata": {},
     "output_type": "execute_result"
    }
   ],
   "source": [
    "id(pay1)\n"
   ]
  },
  {
   "cell_type": "code",
   "execution_count": 19,
   "id": "269387b8",
   "metadata": {},
   "outputs": [
    {
     "data": {
      "text/plain": [
       "1746724017616"
      ]
     },
     "execution_count": 19,
     "metadata": {},
     "output_type": "execute_result"
    }
   ],
   "source": [
    "id(100)"
   ]
  },
  {
   "cell_type": "code",
   "execution_count": 20,
   "id": "6ce1aa06",
   "metadata": {},
   "outputs": [
    {
     "data": {
      "text/plain": [
       "1746724017584"
      ]
     },
     "execution_count": 20,
     "metadata": {},
     "output_type": "execute_result"
    }
   ],
   "source": [
    "id(99)"
   ]
  },
  {
   "cell_type": "code",
   "execution_count": 21,
   "id": "5609a5f8",
   "metadata": {},
   "outputs": [],
   "source": [
    "var=0"
   ]
  },
  {
   "cell_type": "code",
   "execution_count": 22,
   "id": "1037bbc1",
   "metadata": {},
   "outputs": [
    {
     "name": "stdout",
     "output_type": "stream",
     "text": [
      "110\n"
     ]
    }
   ],
   "source": [
    "pay=pay+10\n",
    "print(pay)"
   ]
  },
  {
   "cell_type": "code",
   "execution_count": 23,
   "id": "878c0be9",
   "metadata": {},
   "outputs": [
    {
     "name": "stdout",
     "output_type": "stream",
     "text": [
      "<class 'str'>\n"
     ]
    }
   ],
   "source": [
    "print(type('뛰어서'))"
   ]
  },
  {
   "cell_type": "code",
   "execution_count": null,
   "id": "cdc75940",
   "metadata": {},
   "outputs": [],
   "source": []
  },
  {
   "cell_type": "code",
   "execution_count": 24,
   "id": "23eedcfb",
   "metadata": {},
   "outputs": [],
   "source": [
    "var=100\n",
    "var= var + 10"
   ]
  },
  {
   "cell_type": "code",
   "execution_count": 25,
   "id": "d838b094",
   "metadata": {},
   "outputs": [
    {
     "name": "stdout",
     "output_type": "stream",
     "text": [
      "110\n"
     ]
    }
   ],
   "source": [
    "print(var)"
   ]
  },
  {
   "cell_type": "raw",
   "id": "03287a19",
   "metadata": {},
   "source": []
  },
  {
   "cell_type": "code",
   "execution_count": 26,
   "id": "c67d3a2c",
   "metadata": {},
   "outputs": [],
   "source": [
    "var=var+10"
   ]
  },
  {
   "cell_type": "code",
   "execution_count": 27,
   "id": "19597a04",
   "metadata": {},
   "outputs": [
    {
     "name": "stdout",
     "output_type": "stream",
     "text": [
      "120\n"
     ]
    }
   ],
   "source": [
    "print(var)"
   ]
  },
  {
   "cell_type": "code",
   "execution_count": 28,
   "id": "27c94e7e",
   "metadata": {},
   "outputs": [
    {
     "data": {
      "text/plain": [
       "True"
      ]
     },
     "execution_count": 28,
     "metadata": {},
     "output_type": "execute_result"
    }
   ],
   "source": [
    "10==10.0"
   ]
  },
  {
   "cell_type": "code",
   "execution_count": null,
   "id": "2789c361",
   "metadata": {},
   "outputs": [],
   "source": []
  }
 ],
 "metadata": {
  "kernelspec": {
   "display_name": "Python 3 (ipykernel)",
   "language": "python",
   "name": "python3"
  },
  "language_info": {
   "codemirror_mode": {
    "name": "ipython",
    "version": 3
   },
   "file_extension": ".py",
   "mimetype": "text/x-python",
   "name": "python",
   "nbconvert_exporter": "python",
   "pygments_lexer": "ipython3",
   "version": "3.9.12"
  }
 },
 "nbformat": 4,
 "nbformat_minor": 5
}
